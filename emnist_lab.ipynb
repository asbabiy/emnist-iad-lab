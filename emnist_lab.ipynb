{
 "cells": [
  {
   "cell_type": "markdown",
   "metadata": {},
   "source": [
    "# EMNIST Lab"
   ]
  },
  {
   "cell_type": "markdown",
   "metadata": {},
   "source": [
    "## Imports and stuff"
   ]
  },
  {
   "cell_type": "code",
   "execution_count": 33,
   "metadata": {
    "scrolled": true
   },
   "outputs": [],
   "source": [
    "!apt update && apt install gcc unzip rsync -y"
   ]
  },
  {
   "cell_type": "code",
   "execution_count": 37,
   "metadata": {},
   "outputs": [],
   "source": [
    "!pip install -q matplotlib seaborn wandb timm ray[tune] torchvision hiredis GPy sklearn gdown madgrad tensorboard pytorch-lightning"
   ]
  },
  {
   "cell_type": "code",
   "execution_count": 7,
   "metadata": {
    "scrolled": true
   },
   "outputs": [
    {
     "name": "stdout",
     "output_type": "stream",
     "text": [
      "Downloading...\n",
      "From: https://drive.google.com/uc?id=1Id4fM7EI4GPN8gAMT3AWR0Yx8GARUgW9\n",
      "To: /workspace/images.zip\n",
      "100%|██████████████████████████████████████| 68.4M/68.4M [00:00<00:00, 69.9MB/s]\n"
     ]
    }
   ],
   "source": [
    "!gdown \"https://drive.google.com/uc?id=1Id4fM7EI4GPN8gAMT3AWR0Yx8GARUgW9\""
   ]
  },
  {
   "cell_type": "code",
   "execution_count": 2,
   "metadata": {
    "tags": []
   },
   "outputs": [],
   "source": [
    "!unzip \"images.zip\" -d \"data\""
   ]
  },
  {
   "cell_type": "code",
   "execution_count": 9,
   "metadata": {},
   "outputs": [],
   "source": [
    "%matplotlib inline"
   ]
  },
  {
   "cell_type": "code",
   "execution_count": 37,
   "metadata": {},
   "outputs": [],
   "source": [
    "import os\n",
    "from functools import partial\n",
    "\n",
    "import matplotlib.pyplot as plt\n",
    "import seaborn as sns\n",
    "\n",
    "import numpy as np\n",
    "import pandas as pd\n",
    "from sklearn.metrics import confusion_matrix\n",
    "\n",
    "import torch\n",
    "import torch.nn as nn\n",
    "import torch.nn.functional as F\n",
    "import torch.optim as optim\n",
    "from torch.utils.data import random_split\n",
    "from torch.utils.tensorboard import SummaryWriter\n",
    "\n",
    "import pytorch_lightning as pl\n",
    "from pytorch_lightning.loggers import TensorBoardLogger, WandbLogger\n",
    "import timm\n",
    "\n",
    "import torchvision\n",
    "from torchvision import datasets, models\n",
    "import torchvision.transforms as transforms\n",
    "\n",
    "from ray import tune\n",
    "from ray.tune import CLIReporter, JupyterNotebookReporter\n",
    "from ray.tune.schedulers.pb2 import PB2\n",
    "\n",
    "from madgrad import MADGRAD\n",
    "\n",
    "from tqdm.notebook import tqdm\n",
    "import wandb"
   ]
  },
  {
   "cell_type": "code",
   "execution_count": 7,
   "metadata": {},
   "outputs": [
    {
     "data": {
      "text/html": [
       "<style>.container { width:99% !important; }</style>"
      ],
      "text/plain": [
       "<IPython.core.display.HTML object>"
      ]
     },
     "metadata": {},
     "output_type": "display_data"
    }
   ],
   "source": [
    "from IPython.core.display import display, HTML\n",
    "display(HTML(\"<style>.container { width:99% !important; }</style>\"))"
   ]
  },
  {
   "cell_type": "code",
   "execution_count": 6,
   "metadata": {},
   "outputs": [
    {
     "name": "stdout",
     "output_type": "stream",
     "text": [
      "Tue Nov 23 18:12:55 2021       \n",
      "+-----------------------------------------------------------------------------+\n",
      "| NVIDIA-SMI 465.19.01    Driver Version: 465.19.01    CUDA Version: 11.3     |\n",
      "|-------------------------------+----------------------+----------------------+\n",
      "| GPU  Name        Persistence-M| Bus-Id        Disp.A | Volatile Uncorr. ECC |\n",
      "| Fan  Temp  Perf  Pwr:Usage/Cap|         Memory-Usage | GPU-Util  Compute M. |\n",
      "|                               |                      |               MIG M. |\n",
      "|===============================+======================+======================|\n",
      "|   0  NVIDIA GeForce ...  On   | 00000000:03:00.0 Off |                  N/A |\n",
      "|  0%   42C    P8    16W / 150W |      1MiB /  8119MiB |      0%      Default |\n",
      "|                               |                      |                  N/A |\n",
      "+-------------------------------+----------------------+----------------------+\n",
      "|   1  NVIDIA GeForce ...  On   | 00000000:04:00.0 Off |                  N/A |\n",
      "|  0%   41C    P8     9W / 150W |      1MiB /  8119MiB |      0%      Default |\n",
      "|                               |                      |                  N/A |\n",
      "+-------------------------------+----------------------+----------------------+\n",
      "|   2  NVIDIA GeForce ...  On   | 00000000:05:00.0 Off |                  N/A |\n",
      "|  0%   47C    P8    11W / 150W |      1MiB /  8119MiB |      0%      Default |\n",
      "|                               |                      |                  N/A |\n",
      "+-------------------------------+----------------------+----------------------+\n",
      "|   3  NVIDIA GeForce ...  On   | 00000000:82:00.0 Off |                  N/A |\n",
      "|  0%   42C    P8    10W / 150W |      1MiB /  8119MiB |      0%      Default |\n",
      "|                               |                      |                  N/A |\n",
      "+-------------------------------+----------------------+----------------------+\n",
      "|   4  NVIDIA GeForce ...  On   | 00000000:83:00.0 Off |                  N/A |\n",
      "|  0%   49C    P8    15W / 150W |      1MiB /  8119MiB |      0%      Default |\n",
      "|                               |                      |                  N/A |\n",
      "+-------------------------------+----------------------+----------------------+\n",
      "|   5  NVIDIA GeForce ...  On   | 00000000:84:00.0 Off |                  N/A |\n",
      "|  0%   43C    P8    11W / 150W |      1MiB /  8119MiB |      0%      Default |\n",
      "|                               |                      |                  N/A |\n",
      "+-------------------------------+----------------------+----------------------+\n",
      "                                                                               \n",
      "+-----------------------------------------------------------------------------+\n",
      "| Processes:                                                                  |\n",
      "|  GPU   GI   CI        PID   Type   Process name                  GPU Memory |\n",
      "|        ID   ID                                                   Usage      |\n",
      "|=============================================================================|\n",
      "|  No running processes found                                                 |\n",
      "+-----------------------------------------------------------------------------+\n"
     ]
    }
   ],
   "source": [
    "!nvidia-smi"
   ]
  },
  {
   "cell_type": "markdown",
   "metadata": {},
   "source": [
    "## Utilities"
   ]
  },
  {
   "cell_type": "code",
   "execution_count": 2,
   "metadata": {},
   "outputs": [],
   "source": [
    "# function for loading data\n",
    "\n",
    "def load_data(data_dir=\"./data\"):\n",
    "    train_transform = transforms.Compose([\n",
    "        transforms.Grayscale(),  # they are anyway monochrome\n",
    "        transforms.ToTensor(),\n",
    "        transforms.RandomRotation(10),  # resize augmentation (10 degrees) [only on train]\n",
    "        transforms.Resize(28),\n",
    "        transforms.Normalize((0.5, ), (0.5, ))\n",
    "    ])\n",
    "    \n",
    "    test_transform = transforms.Compose([\n",
    "        transforms.Grayscale(),\n",
    "        transforms.ToTensor(),\n",
    "        transforms.Normalize((0.5, ), (0.5, ))\n",
    "    ])\n",
    "    \n",
    "    train_data = datasets.ImageFolder(root=f\"{data_dir}/train\", transform=train_transform)\n",
    "    test_data = datasets.ImageFolder(root=f\"{data_dir}/test\", transform=test_transform)\n",
    "\n",
    "    return train_data, test_data"
   ]
  },
  {
   "cell_type": "code",
   "execution_count": 76,
   "metadata": {},
   "outputs": [],
   "source": [
    "# function for testing accuracy\n",
    "# it doesn't take test data itself as its argument cause I initially intended to use it only with the PB2 hyperparameter search\n",
    "# and that way loading data becomes a bit more complex task\n",
    "# thus, I decided to keep it as is and just adapt other functions to it :)\n",
    "\n",
    "def test_accuracy(net, device=\"cpu\"):\n",
    "    train_set, test_set = load_data()\n",
    "\n",
    "    test_loader = torch.utils.data.DataLoader(\n",
    "        test_set, batch_size=4, shuffle=False\n",
    "    )\n",
    "\n",
    "    correct = 0\n",
    "    total = 0\n",
    "    \n",
    "    with torch.no_grad():\n",
    "        for data in test_loader:\n",
    "            images, labels = data\n",
    "            images, labels = images.to(device), labels.to(device)\n",
    "            outputs = net(images)\n",
    "            _, predicted = torch.max(outputs.data, 1)\n",
    "            total += labels.size(0)\n",
    "            correct += (predicted == labels).sum().item()\n",
    "\n",
    "    return correct / total"
   ]
  },
  {
   "cell_type": "code",
   "execution_count": 4,
   "metadata": {},
   "outputs": [],
   "source": [
    "# train-val loop *specifically* for use with ray tune hyperparameter search\n",
    "# splitiing train to train/test as 80/20\n",
    "# using SGD cause I experimentally found that it works quite well here\n",
    "# but I'll give MADGRAD one more chance later!\n",
    "\n",
    "def train_model(config: dict, checkpoint_dir=None, data_dir=None, epochs=10):\n",
    "    model = config.pop(\"model\")\n",
    "    lr = config.pop(\"lr\")\n",
    "    batch_size = config.pop(\"batch_size\")\n",
    "    net = model(**config)\n",
    "\n",
    "    device = \"cpu\"\n",
    "    if torch.cuda.is_available():\n",
    "        device = \"cuda:0\"\n",
    "        if torch.cuda.device_count() > 1:\n",
    "            net = nn.DataParallel(net)\n",
    "    net.to(device)\n",
    "\n",
    "    criterion = nn.CrossEntropyLoss()\n",
    "    optimizer = optim.SGD(net.parameters(), lr, momentum=0.9)\n",
    "    # optimizer = optim.Adam(net.parameters(), lr=lr)\n",
    "    # optimizer = optim.AdamW(net.parameters(), lr=lr)\n",
    "    # optimizer = MADGRAD(net.parameters(), lr=lr)\n",
    "\n",
    "    if checkpoint_dir:\n",
    "        model_state, optimizer_state = torch.load(\n",
    "            os.path.join(checkpoint_dir, \"checkpoint\"))\n",
    "        net.load_state_dict(model_state)\n",
    "        optimizer.load_state_dict(optimizer_state)\n",
    "\n",
    "    trainset, testset = load_data(data_dir)\n",
    "\n",
    "    test_abs = int(len(trainset) * 0.8)\n",
    "    train_subset, val_subset = random_split(\n",
    "        trainset, [test_abs, len(trainset) - test_abs])\n",
    "\n",
    "    # setting dataloaders\n",
    "    \n",
    "    trainloader = torch.utils.data.DataLoader(\n",
    "        train_subset,\n",
    "        batch_size=int(batch_size),\n",
    "        shuffle=True)\n",
    "    \n",
    "    valloader = torch.utils.data.DataLoader(\n",
    "        val_subset,\n",
    "        batch_size=int(batch_size),\n",
    "        shuffle=True)\n",
    "    \n",
    "    # training\n",
    "    for epoch in range(epochs):\n",
    "        running_loss = 0.0\n",
    "        epoch_steps = 0\n",
    "        for i, data in enumerate(trainloader, 0):\n",
    "            inputs, labels = data\n",
    "            inputs, labels = inputs.to(device), labels.to(device)\n",
    "\n",
    "            optimizer.zero_grad()\n",
    "\n",
    "            outputs = net(inputs)\n",
    "            loss = criterion(outputs, labels)\n",
    "            loss.backward()\n",
    "            optimizer.step()\n",
    "\n",
    "            running_loss += loss.item()\n",
    "            epoch_steps += 1\n",
    "            \n",
    "            if i % 2000 == 1999:  # training loss\n",
    "                print(\"[%d, %5d] loss: %.3f\" % (epoch + 1, i + 1,\n",
    "                                                running_loss / epoch_steps))\n",
    "                running_loss = 0.0\n",
    "\n",
    "        # validation loss\n",
    "        val_loss = 0.0\n",
    "        val_steps = 0\n",
    "        total = 0\n",
    "        correct = 0\n",
    "        \n",
    "        for i, data in enumerate(valloader, 0):\n",
    "            with torch.no_grad():\n",
    "                inputs, labels = data\n",
    "                inputs, labels = inputs.to(device), labels.to(device)\n",
    "\n",
    "                outputs = net(inputs)\n",
    "                _, predicted = torch.max(outputs.data, 1)\n",
    "                total += labels.size(0)\n",
    "                correct += (predicted == labels).sum().item()\n",
    "\n",
    "                loss = criterion(outputs, labels)\n",
    "                val_loss += loss.cpu().numpy()\n",
    "                val_steps += 1\n",
    "        \n",
    "        # saving checkpoint via ray\n",
    "        # because the `train` function uses genetic algorithm which is based on reinforcement learning\n",
    "        # it select the most performant models, periodically conducts various perturbations\n",
    "        # changing specific model hyperparams (such as lr) and transferring best model weights to other weak models,\n",
    "        # what allows to dynamically select the best models\n",
    "        # just a brilliant algorithm6 but requires lots of compute power and isn't really useful for our data\n",
    "        # but I had an opportunity and compute power to try it so i decided to do it\n",
    "        \n",
    "        with tune.checkpoint_dir(epoch) as checkpoint_dir:\n",
    "            path = os.path.join(checkpoint_dir, \"checkpoint\")\n",
    "            torch.save((net.state_dict(), optimizer.state_dict()), path)\n",
    "\n",
    "        tune.report(loss=(val_loss / val_steps), accuracy=(correct / total))\n",
    "        \n",
    "    print(\"Finished Training\")"
   ]
  },
  {
   "cell_type": "code",
   "execution_count": 5,
   "metadata": {},
   "outputs": [],
   "source": [
    "# fixing some docker-related stuff\n",
    "\n",
    "import os\n",
    "os.environ[\"RAY_OBJECT_STORE_ALLOW_SLOW_STORAGE\"] = \"1\""
   ]
  },
  {
   "cell_type": "code",
   "execution_count": 6,
   "metadata": {},
   "outputs": [],
   "source": [
    "# function for automatic hyperparameter tuning and model training using Ray Tune and Population Based Bandits (PB2) algorithm\n",
    "# yeah I messed up a bit with my function naming, but it's already kinda late to fix this\n",
    "# so I hope it won't be really confusing\n",
    "\n",
    "def train(config, hyperparam_bounds, model_params, num_samples=10, gpus_per_trial=0.5, perturbation_interval=5):\n",
    "    data_dir = os.path.abspath(\"./data\")\n",
    "    load_data(data_dir)\n",
    "\n",
    "    scheduler = PB2(\n",
    "        time_attr='training_iteration',\n",
    "        metric=\"accuracy\",\n",
    "        mode=\"max\",\n",
    "        perturbation_interval=perturbation_interval,\n",
    "        hyperparam_bounds=hyperparam_bounds\n",
    "    )\n",
    "    \n",
    "    reporter = JupyterNotebookReporter(\n",
    "        parameter_columns=list(config.keys()),\n",
    "        metric_columns=[\"loss\", \"accuracy\", \"training_iteration\"],\n",
    "        overwrite=True,\n",
    "        metric=\"accuracy\",\n",
    "        max_progress_rows=40,\n",
    "        max_report_frequency=3,\n",
    "        sort_by_metric=True\n",
    "    )\n",
    "    \n",
    "    result = tune.run(\n",
    "        partial(train_model, data_dir=data_dir),\n",
    "        name=\"product_model\",\n",
    "        resources_per_trial={\"cpu\": 2, \"gpu\": gpus_per_trial},\n",
    "        config=config,\n",
    "        num_samples=num_samples,\n",
    "        scheduler=scheduler,\n",
    "        progress_reporter=reporter,\n",
    "        reuse_actors=True,\n",
    "        keep_checkpoints_num=5,\n",
    "        checkpoint_score_attr=\"accuracy\",\n",
    "        stop=tune.stopper.ExperimentPlateauStopper(metric=\"accuracy\", top=3, patience=5, mode=\"max\"),\n",
    "        verbose=False\n",
    "    )\n",
    "\n",
    "    best_trial = result.get_best_trial(\"accuracy\", \"max\", \"all\")\n",
    "    best_model_checkpoint = result.get_best_checkpoint(best_trial, metric=\"accuracy\", mode=\"max\")\n",
    "    \n",
    "    print(\"Best trial config: {}\".format(best_trial.config))\n",
    "    print(\"Best trial final validation loss: {}\".format(\n",
    "        best_trial.last_result[\"loss\"]))\n",
    "    print(\"Best trial final validation accuracy: {}\".format(\n",
    "        best_trial.last_result[\"accuracy\"]))\n",
    "    \n",
    "    model_state, optimizer_state = torch.load(os.path.join(\n",
    "        best_model_checkpoint, \"checkpoint\"))\n",
    "    \n",
    "    model = config[\"model\"]\n",
    "    best_trained_model = model(**{param: best_trial.config[param] for param in model_params})\n",
    "    best_trained_model.load_state_dict(model_state)\n",
    "    \n",
    "    device = \"cpu\"\n",
    "    \n",
    "    if torch.cuda.is_available():\n",
    "        device = \"cuda:0\"\n",
    "        if gpus_per_trial > 1:\n",
    "            best_trained_model = nn.DataParallel(best_trained_model)\n",
    "            \n",
    "    best_trained_model.to(device)\n",
    "\n",
    "    test_acc = test_accuracy(best_trained_model, device)\n",
    "    print(\"Best trial test set accuracy: {}\".format(test_acc))\n",
    "    \n",
    "    return best_trained_model"
   ]
  },
  {
   "cell_type": "code",
   "execution_count": 74,
   "metadata": {},
   "outputs": [],
   "source": [
    "# function for manual model training\n",
    "# it also implements usage of the sota MADGRAD optimizer and LabelSmoothing\n",
    "# it doesn't use validation set and checks everything directly on the test set\n",
    "# it logs train loss and train/test accuracy to Tensorboard and can be accessed later\n",
    "# I use cosine annealing with warm restarts (delta = 2 epochs) for lr scheduling\n",
    "\n",
    "def train_emnist(model, loss, optimizer_name=\"madgrad\", model_name=\"\", num_epochs=10, batch_size=128, lr=1e-3):\n",
    "    writer = SummaryWriter()\n",
    "    \n",
    "    data_dir = os.path.abspath(\"./data\")\n",
    "    train_set, _ = load_data(data_dir)\n",
    "    train_loader = torch.utils.data.DataLoader(train_set, batch_size=batch_size, shuffle=True)\n",
    "    \n",
    "    device = \"cpu\"\n",
    "    if torch.cuda.is_available():\n",
    "        device = \"cuda:0\"\n",
    "        if torch.cuda.device_count() > 1:\n",
    "            model = nn.DataParallel(model)\n",
    "    model.to(device)\n",
    "    \n",
    "    optimizers = {\n",
    "        \"sgd\": optim.SGD(model.parameters(), lr=lr, momentum=0.9),\n",
    "        \"adam\": optim.Adam(model.parameters(), lr=lr),\n",
    "        \"adamw\": optim.AdamW(model.parameters(), lr=lr),\n",
    "        \"madgrad\": MADGRAD(model.parameters(), lr=lr)  # source: https://arxiv.org/abs/2101.11075\n",
    "    }\n",
    "    \n",
    "    optimizer = optimizers.get(optimizer_name, optimizers[\"adamw\"])\n",
    "    \n",
    "    loss_history = []\n",
    "    train_history = []\n",
    "    test_history = []\n",
    "    \n",
    "    scheduler = torch.optim.lr_scheduler.CosineAnnealingWarmRestarts(optimizer, T_0=2)\n",
    "    \n",
    "    for epoch in tqdm(range(num_epochs)):\n",
    "        model.train()\n",
    "        loss_sum = 0\n",
    "        correct_samples = 0\n",
    "        total_samples = 0\n",
    "        \n",
    "        for batch_num, (data, labels) in enumerate(tqdm(train_loader, total=len(train_loader))):\n",
    "            data = data.float()\n",
    "                \n",
    "            data = data.to(device)\n",
    "            labels = labels.to(device)\n",
    "            \n",
    "            preds = model(data)\n",
    "            loss_value = loss(preds, labels)\n",
    "            \n",
    "            _, idx = torch.max(preds, 1)\n",
    "            correct_samples += torch.sum(idx == labels)\n",
    "            total_samples += labels.shape[0]\n",
    "            loss_sum += loss_value\n",
    "            \n",
    "            optimizer.zero_grad()\n",
    "            loss_value.backward()\n",
    "            optimizer.step()\n",
    "\n",
    "        avg_loss = float(loss_sum / (batch_num + 1))\n",
    "        train_acc = float(correct_samples) / total_samples\n",
    "        test_acc = test_accuracy(model, device)\n",
    "        \n",
    "        writer.add_scalar('Train loss', avg_loss, epoch)\n",
    "        writer.add_scalar('Train accuracy', train_acc, epoch)\n",
    "        writer.add_scalar('Test accuracy', test_acc, epoch)\n",
    "            \n",
    "        loss_history.append(avg_loss)\n",
    "        train_history.append(train_acc)\n",
    "        test_history.append(test_acc)\n",
    "        \n",
    "        # checkpointing best model based on test accuracy\n",
    "        if max(test_history) == test_acc:\n",
    "            torch.save(model, f\"models/{model_name}.pt\")\n",
    "            \n",
    "        scheduler.step()\n",
    "\n",
    "        print(f'Epoch {epoch}, Average loss: {avg_loss:.3f}, Train accuracy: {train_acc:.3f}, '\n",
    "              f'Test accuracy: {test_acc:.3f}')\n",
    "        \n",
    "        writer.flush()\n",
    "     \n",
    "    return loss_history, train_history, test_history, model"
   ]
  },
  {
   "cell_type": "markdown",
   "metadata": {},
   "source": [
    "## Model Training"
   ]
  },
  {
   "cell_type": "markdown",
   "metadata": {},
   "source": [
    "### [2x MLP] Automatic Hyperparameter optimization"
   ]
  },
  {
   "cell_type": "code",
   "execution_count": 200,
   "metadata": {},
   "outputs": [],
   "source": [
    "class FC2(nn.Module):\n",
    "    def __init__(\n",
    "        self, \n",
    "        l1=512,\n",
    "        l2=256,\n",
    "        activation_fn=nn.ReLU(),\n",
    "        dropout_prob=0.2\n",
    "    ):\n",
    "        \n",
    "        super(FC2, self).__init__()\n",
    "        \n",
    "        self.fc1 = nn.Linear(28 * 28, l1)\n",
    "        self.fc2 = nn.Linear(l1, l2)\n",
    "        self.output = nn.Linear(l2, 26)\n",
    "        \n",
    "        self.activation_fn = activation_fn\n",
    "        self.dropout = nn.Dropout(p=dropout_prob)\n",
    "        \n",
    "    def forward(self, x):\n",
    "        x = x.view(-1, 28 * 28)\n",
    "        x = self.dropout(self.activation_fn(self.fc1(x)))\n",
    "        x = self.dropout(self.activation_fn(self.fc2(x)))\n",
    "        x = self.output(x)\n",
    "        return x"
   ]
  },
  {
   "cell_type": "code",
   "execution_count": 13,
   "metadata": {},
   "outputs": [
    {
     "data": {
      "text/html": [
       "== Status ==<br>Current time: 2021-11-23 18:42:09 (running for 00:28:14.17)<br>Memory usage on this node: 7.2/125.9 GiB<br>PopulationBasedTraining: 14 checkpoints, 7 perturbs<br>Resources requested: 0/32 CPUs, 0/6 GPUs, 0.0/74.13 GiB heap, 0.0/35.76 GiB objects (0.0/1.0 accelerator_type:G)<br>Result logdir: /root/ray_results/product_model<br>Number of trials: 6/6 (6 TERMINATED)<br><table>\n",
       "<thead>\n",
       "<tr><th>Trial name         </th><th>status    </th><th>loc            </th><th>model                 </th><th style=\"text-align: right;\">  l1</th><th style=\"text-align: right;\">  l2</th><th>activation_fn  </th><th style=\"text-align: right;\">  dropout_prob</th><th style=\"text-align: right;\">       lr</th><th style=\"text-align: right;\">  batch_size</th><th style=\"text-align: right;\">    loss</th><th style=\"text-align: right;\">  accuracy</th><th style=\"text-align: right;\">  training_iteration</th></tr>\n",
       "</thead>\n",
       "<tbody>\n",
       "<tr><td>DEFAULT_1e9f8_00000</td><td>TERMINATED</td><td>172.17.0.2:2640</td><td>&lt;class &#x27;__main__.FC2&#x27;&gt;</td><td style=\"text-align: right;\"> 512</td><td style=\"text-align: right;\"> 256</td><td>ReLU()         </td><td style=\"text-align: right;\">      0.110217</td><td style=\"text-align: right;\">0.0486804</td><td style=\"text-align: right;\">         256</td><td style=\"text-align: right;\">0.376349</td><td style=\"text-align: right;\">  0.879154</td><td style=\"text-align: right;\">                  13</td></tr>\n",
       "<tr><td>DEFAULT_1e9f8_00001</td><td>TERMINATED</td><td>172.17.0.2:2653</td><td>&lt;class &#x27;__main__.FC2&#x27;&gt;</td><td style=\"text-align: right;\"> 512</td><td style=\"text-align: right;\"> 256</td><td>Mish()         </td><td style=\"text-align: right;\">      0.16668 </td><td style=\"text-align: right;\">0.0435499</td><td style=\"text-align: right;\">         256</td><td style=\"text-align: right;\">0.371673</td><td style=\"text-align: right;\">  0.880462</td><td style=\"text-align: right;\">                  10</td></tr>\n",
       "<tr><td>DEFAULT_1e9f8_00002</td><td>TERMINATED</td><td>172.17.0.2:2658</td><td>&lt;class &#x27;__main__.FC2&#x27;&gt;</td><td style=\"text-align: right;\"> 512</td><td style=\"text-align: right;\"> 256</td><td>ReLU()         </td><td style=\"text-align: right;\">      0.110217</td><td style=\"text-align: right;\">0.0486804</td><td style=\"text-align: right;\">         256</td><td style=\"text-align: right;\">0.357306</td><td style=\"text-align: right;\">  0.887846</td><td style=\"text-align: right;\">                  16</td></tr>\n",
       "<tr><td>DEFAULT_1e9f8_00003</td><td>TERMINATED</td><td>172.17.0.2:2619</td><td>&lt;class &#x27;__main__.FC2&#x27;&gt;</td><td style=\"text-align: right;\"> 512</td><td style=\"text-align: right;\"> 256</td><td>ReLU()         </td><td style=\"text-align: right;\">      0.110217</td><td style=\"text-align: right;\">0.0486804</td><td style=\"text-align: right;\">         256</td><td style=\"text-align: right;\">0.374417</td><td style=\"text-align: right;\">  0.881615</td><td style=\"text-align: right;\">                  13</td></tr>\n",
       "<tr><td>DEFAULT_1e9f8_00004</td><td>TERMINATED</td><td>172.17.0.2:2638</td><td>&lt;class &#x27;__main__.FC2&#x27;&gt;</td><td style=\"text-align: right;\"> 512</td><td style=\"text-align: right;\"> 256</td><td>ReLU()         </td><td style=\"text-align: right;\">      0.1     </td><td style=\"text-align: right;\">0.0001   </td><td style=\"text-align: right;\">         256</td><td style=\"text-align: right;\">0.28552 </td><td style=\"text-align: right;\">  0.909154</td><td style=\"text-align: right;\">                  25</td></tr>\n",
       "<tr><td>DEFAULT_1e9f8_00005</td><td>TERMINATED</td><td>172.17.0.2:2628</td><td>&lt;class &#x27;__main__.FC2&#x27;&gt;</td><td style=\"text-align: right;\"> 512</td><td style=\"text-align: right;\"> 256</td><td>ReLU()         </td><td style=\"text-align: right;\">      0.110217</td><td style=\"text-align: right;\">0.0486804</td><td style=\"text-align: right;\">         256</td><td style=\"text-align: right;\">0.409907</td><td style=\"text-align: right;\">  0.874615</td><td style=\"text-align: right;\">                  10</td></tr>\n",
       "</tbody>\n",
       "</table><br><br>"
      ],
      "text/plain": [
       "<IPython.core.display.HTML object>"
      ]
     },
     "metadata": {},
     "output_type": "display_data"
    },
    {
     "name": "stderr",
     "output_type": "stream",
     "text": [
      "2021-11-23 18:42:09,311\tINFO tune.py:630 -- Total run time: 1694.45 seconds (1694.15 seconds for the tuning loop).\n"
     ]
    },
    {
     "name": "stdout",
     "output_type": "stream",
     "text": [
      "Best trial config: {'model': <class '__main__.FC2'>, 'l1': 512, 'l2': 256, 'activation_fn': ReLU(), 'dropout_prob': 0.1, 'lr': 1e-04, 'batch_size': 256}\n",
      "Best trial final validation loss: 0.28551969253549386\n",
      "Best trial final validation accuracy: 0.9091538461538462\n",
      "Best trial test set accuracy: 0.9034615384615384\n"
     ]
    }
   ],
   "source": [
    "config_fc2 = {\n",
    "    \"model\": FC2,\n",
    "    \"l1\": tune.choice([256, 512]),\n",
    "    \"l2\": tune.choice([128, 256]),\n",
    "    \"activation_fn\": tune.choice([nn.ReLU(), nn.Mish(), nn.GELU()]),\n",
    "    \"dropout_prob\": tune.loguniform(0.1, 0.2),\n",
    "    \"lr\": tune.uniform(5e-3, 1e-1),\n",
    "    \"batch_size\": tune.sample_from(lambda _: 2 ** np.random.randint(7, 9))\n",
    "}\n",
    "\n",
    "hyperparam_bounds_fc2 = {\n",
    "    \"dropout_prob\": [0.1, 0.2],\n",
    "    \"lr\": [1e-4, 1e-1],\n",
    "}\n",
    "\n",
    "model_fc2 = train(\n",
    "    config=config_fc2,\n",
    "    hyperparam_bounds=hyperparam_bounds_fc2,\n",
    "    model_params=[\"l1\", \"l2\", \"activation_fn\", \"dropout_prob\"],\n",
    "    num_samples=6,\n",
    "    gpus_per_trial=1,\n",
    "    perturbation_interval=3\n",
    ")\n",
    "\n",
    "torch.save(model_fc2.state_dict(), \"moels/fc3.pt\")"
   ]
  },
  {
   "cell_type": "markdown",
   "metadata": {},
   "source": [
    "**Conclusion**: well, analysis is required in this task, but here we have a bunch of really sophisticated algorithms, based on reinforcment learning, which sample the hyperparameters themselves, choose what to do with the variable learning rate themselves, killing underperforming models and transferring best weights to them also themselves!\n",
    "\n",
    "The main thing I can say is that setup 512 – 256 – ReLU – ~0.1 – 0.49 is simply the best. You know, it allowed us to achieve 0.9 accuracy on our test set without any overfitting on validation data."
   ]
  },
  {
   "cell_type": "markdown",
   "metadata": {},
   "source": [
    "### [3x MLP] Automatic Hyperparameter optimization"
   ]
  },
  {
   "cell_type": "code",
   "execution_count": 171,
   "metadata": {},
   "outputs": [],
   "source": [
    "class FC3(nn.Module):\n",
    "    def __init__(\n",
    "        self, \n",
    "        l1=512,\n",
    "        l2=256,\n",
    "        l3=128,\n",
    "        activation_fn=nn.ReLU(),\n",
    "        dropout_prob=0.2\n",
    "    ):\n",
    "        \n",
    "        super(FC3, self).__init__()\n",
    "        \n",
    "        self.fc1 = nn.Linear(28 * 28, l1)\n",
    "        self.fc2 = nn.Linear(l1, l2)\n",
    "        self.fc3 = nn.Linear(l2, l3)\n",
    "        self.output = nn.Linear(l3, 26)\n",
    "        \n",
    "        self.activation_fn = activation_fn\n",
    "        self.dropout = nn.Dropout(p=dropout_prob)\n",
    "        \n",
    "    def forward(self, x):\n",
    "        x = x.view(-1, 28 * 28)\n",
    "        x = self.dropout(self.activation_fn(self.fc1(x)))\n",
    "        x = self.dropout(self.activation_fn(self.fc2(x)))\n",
    "        x = self.dropout(self.activation_fn(self.fc3(x)))\n",
    "        x = self.output(x)\n",
    "        return x"
   ]
  },
  {
   "cell_type": "code",
   "execution_count": 18,
   "metadata": {},
   "outputs": [
    {
     "data": {
      "text/html": [
       "== Status ==<br>Current time: 2021-11-28 22:36:57 (running for 00:15:31.60)<br>Memory usage on this node: 8.5/125.9 GiB<br>PopulationBasedTraining: 5 checkpoints, 1 perturbs<br>Resources requested: 0/8 CPUs, 0/1 GPUs, 0.0/73.97 GiB heap, 0.0/35.69 GiB objects (0.0/1.0 accelerator_type:RTX)<br>Result logdir: /root/ray_results/product_model<br>Number of trials: 4/4 (4 TERMINATED)<br><table>\n",
       "<thead>\n",
       "<tr><th>Trial name         </th><th>status    </th><th>loc            </th><th>model                 </th><th style=\"text-align: right;\">  l1</th><th style=\"text-align: right;\">  l2</th><th style=\"text-align: right;\">  l3</th><th>activation_fn  </th><th style=\"text-align: right;\">  dropout_prob</th><th style=\"text-align: right;\">       lr</th><th style=\"text-align: right;\">  batch_size</th><th style=\"text-align: right;\">    loss</th><th style=\"text-align: right;\">  accuracy</th><th style=\"text-align: right;\">  training_iteration</th></tr>\n",
       "</thead>\n",
       "<tbody>\n",
       "<tr><td>DEFAULT_86509_00000</td><td>TERMINATED</td><td>172.17.0.2:1148</td><td>&lt;class &#x27;__main__.FC3&#x27;&gt;</td><td style=\"text-align: right;\"> 512</td><td style=\"text-align: right;\"> 256</td><td style=\"text-align: right;\"> 128</td><td>ReLU()         </td><td style=\"text-align: right;\">           0.1</td><td style=\"text-align: right;\">0.0324645</td><td style=\"text-align: right;\">         256</td><td style=\"text-align: right;\">0.415708</td><td style=\"text-align: right;\">  0.868923</td><td style=\"text-align: right;\">                  10</td></tr>\n",
       "<tr><td>DEFAULT_86509_00001</td><td>TERMINATED</td><td>172.17.0.2:1284</td><td>&lt;class &#x27;__main__.FC3&#x27;&gt;</td><td style=\"text-align: right;\"> 512</td><td style=\"text-align: right;\"> 256</td><td style=\"text-align: right;\"> 128</td><td>ReLU()         </td><td style=\"text-align: right;\">           0.1</td><td style=\"text-align: right;\">0.0268478</td><td style=\"text-align: right;\">         256</td><td style=\"text-align: right;\">0.41635 </td><td style=\"text-align: right;\">  0.866923</td><td style=\"text-align: right;\">                  10</td></tr>\n",
       "<tr><td>DEFAULT_86509_00002</td><td>TERMINATED</td><td>172.17.0.2:1283</td><td>&lt;class &#x27;__main__.FC3&#x27;&gt;</td><td style=\"text-align: right;\"> 512</td><td style=\"text-align: right;\"> 256</td><td style=\"text-align: right;\"> 128</td><td>ReLU()         </td><td style=\"text-align: right;\">           0.1</td><td style=\"text-align: right;\">0.0001   </td><td style=\"text-align: right;\">         256</td><td style=\"text-align: right;\">0.366958</td><td style=\"text-align: right;\">  0.884846</td><td style=\"text-align: right;\">                  16</td></tr>\n",
       "<tr><td>DEFAULT_86509_00003</td><td>TERMINATED</td><td>172.17.0.2:1335</td><td>&lt;class &#x27;__main__.FC3&#x27;&gt;</td><td style=\"text-align: right;\"> 512</td><td style=\"text-align: right;\"> 256</td><td style=\"text-align: right;\"> 128</td><td>Mish()         </td><td style=\"text-align: right;\">           0.1</td><td style=\"text-align: right;\">0.0115899</td><td style=\"text-align: right;\">         128</td><td style=\"text-align: right;\">0.388701</td><td style=\"text-align: right;\">  0.871769</td><td style=\"text-align: right;\">                  10</td></tr>\n",
       "</tbody>\n",
       "</table><br><br>"
      ],
      "text/plain": [
       "<IPython.core.display.HTML object>"
      ]
     },
     "metadata": {},
     "output_type": "display_data"
    },
    {
     "name": "stderr",
     "output_type": "stream",
     "text": [
      "2021-11-28 22:36:57,239\tINFO tune.py:630 -- Total run time: 931.72 seconds (931.58 seconds for the tuning loop).\n"
     ]
    },
    {
     "name": "stdout",
     "output_type": "stream",
     "text": [
      "Best trial config: {'model': <class '__main__.FC3'>, 'l1': 512, 'l2': 256, 'l3': 128, 'activation_fn': ReLU(), 'dropout_prob': 0.1, 'lr': 1e-04, 'batch_size': 256}\n",
      "Best trial final validation loss: 0.3669576349796033\n",
      "Best trial final validation accuracy: 0.8848461538461538\n",
      "Best trial test set accuracy: 0.8943076923076924\n"
     ]
    }
   ],
   "source": [
    "config_fc3 = {\n",
    "    \"model\": FC3,\n",
    "    \"l1\": 512,\n",
    "    \"l2\": 256,\n",
    "    \"l3\": 128,\n",
    "    \"activation_fn\": tune.choice([nn.GELU(), nn.Mish(), nn.ReLU()]),\n",
    "    \"dropout_prob\": 0.1,\n",
    "    \"lr\": tune.uniform(5e-3, 1e-1),\n",
    "    \"batch_size\": tune.sample_from(lambda _: 2 ** np.random.randint(7, 9))\n",
    "}\n",
    "\n",
    "hyperparam_bounds_fc3 = {\n",
    "    \"lr\": [1e-4, 1e-1],\n",
    "}\n",
    "\n",
    "model_fc3 = train(\n",
    "    config=config_fc3,\n",
    "    hyperparam_bounds=hyperparam_bounds_fc3,\n",
    "    model_params=[\"l1\", \"l2\", \"activation_fn\", \"dropout_prob\"],\n",
    "    num_samples=4,\n",
    "    gpus_per_trial=0.25,\n",
    "    perturbation_interval=3\n",
    ")\n",
    "\n",
    "torch.save(model_fc3.state_dict(), \"models/fc3.pt\")"
   ]
  },
  {
   "cell_type": "markdown",
   "metadata": {},
   "source": [
    "**Conclusion**: My thoughts about this model are the same comparing to the previous model.\n",
    "\n",
    "The best one is 512 – 256 – 128 – ReLU – 0.1 – 0.0001, achieving about the same accuracy as the 2-layer model"
   ]
  },
  {
   "cell_type": "markdown",
   "metadata": {},
   "source": [
    "### Performance Analysis"
   ]
  },
  {
   "cell_type": "code",
   "execution_count": 202,
   "metadata": {},
   "outputs": [],
   "source": [
    "_, test_data = load_data()"
   ]
  },
  {
   "cell_type": "code",
   "execution_count": 239,
   "metadata": {},
   "outputs": [
    {
     "data": {
      "text/plain": [
       "FC2(\n",
       "  (fc1): Linear(in_features=784, out_features=512, bias=True)\n",
       "  (fc2): Linear(in_features=512, out_features=256, bias=True)\n",
       "  (output): Linear(in_features=256, out_features=26, bias=True)\n",
       "  (activation_fn): ReLU()\n",
       "  (dropout): Dropout(p=0.2, inplace=False)\n",
       ")"
      ]
     },
     "execution_count": 239,
     "metadata": {},
     "output_type": "execute_result"
    }
   ],
   "source": [
    "model_fc2 = FC2()\n",
    "\n",
    "fc2_weights = torch.load(\"models/fc2.pt\")\n",
    "model_fc2.load_state_dict(fc2_weights)\n",
    "model_fc2.cpu()"
   ]
  },
  {
   "cell_type": "code",
   "execution_count": 245,
   "metadata": {},
   "outputs": [
    {
     "data": {
      "application/vnd.jupyter.widget-view+json": {
       "model_id": "c90342bb9dbd4437846c2a1be0ce7054",
       "version_major": 2,
       "version_minor": 0
      },
      "text/plain": [
       "  0%|          | 0/13000 [00:00<?, ?it/s]"
      ]
     },
     "metadata": {},
     "output_type": "display_data"
    }
   ],
   "source": [
    "test_predictions = []\n",
    "test_labels = []\n",
    "\n",
    "for data, labels in tqdm(test_data, total=len(test_data)):\n",
    "    outputs = model_fc2(data)\n",
    "    _, preds = torch.max(outputs.data, 1)\n",
    "    test_labels.append(labels)\n",
    "    test_predictions.append(preds.item())"
   ]
  },
  {
   "cell_type": "code",
   "execution_count": 247,
   "metadata": {},
   "outputs": [
    {
     "name": "stdout",
     "output_type": "stream",
     "text": [
      "Labels: [0, 0, 0, 0, 0]\n",
      "Predictions: [0, 0, 0, 0, 0]\n"
     ]
    }
   ],
   "source": [
    "print(\"Labels:\", test_labels[:5])\n",
    "print(\"Predictions:\", test_predictions[:5])"
   ]
  },
  {
   "cell_type": "code",
   "execution_count": 259,
   "metadata": {},
   "outputs": [],
   "source": [
    "test_cf = confusion_matrix(test_labels, test_predictions)\n",
    "test_cf = pd.DataFrame(test_cf, index=test_data.classes, columns=test_data.classes)"
   ]
  },
  {
   "cell_type": "code",
   "execution_count": 264,
   "metadata": {},
   "outputs": [
    {
     "data": {
      "text/plain": [
       "<AxesSubplot:>"
      ]
     },
     "execution_count": 264,
     "metadata": {},
     "output_type": "execute_result"
    },
    {
     "data": {
      "image/png": "[encoded data removed]",
      "text/plain": [
       "<Figure size 1800x1440 with 2 Axes>"
      ]
     },
     "metadata": {
      "needs_background": "light"
     },
     "output_type": "display_data"
    }
   ],
   "source": [
    "plt.figure(figsize=(25, 20))\n",
    "sns.heatmap(test_cf, annot=True) "
   ]
  },
  {
   "cell_type": "markdown",
   "metadata": {},
   "source": [
    "- There are 2 confusing letterpairs (they look really similar): \n",
    "    - `l <-> i`\n",
    "    - `g <-> q`\n",
    "- Sometimes the aforementioned pairs are being confused:\n",
    "    - `a <-> q`\n",
    "    - `y <-> v`\n",
    "- For some reason this letter get confused with each other:\n",
    "    - `i <-> z`\n",
    "    \n",
    "**Nethertheless, this model is quite good (and the models below are even better).**"
   ]
  },
  {
   "cell_type": "markdown",
   "metadata": {},
   "source": [
    "### Model mistakes visualization"
   ]
  },
  {
   "cell_type": "code",
   "execution_count": 374,
   "metadata": {},
   "outputs": [],
   "source": [
    "# image viz\n",
    "def visualize_images(indices, data, title='', max_num=10):\n",
    "    to_show = min(len(indices), max_num)\n",
    "    fig = plt.figure(figsize=(10, 1.5))\n",
    "    fig.suptitle(title)\n",
    "    for i, index in enumerate(indices[:to_show]):\n",
    "        plt.subplot(1, to_show, i + 1)\n",
    "        plt.axis('off')\n",
    "        pic = data[index][0]\n",
    "        pic = np.transpose(pic, axes=(1, 0, 2))\n",
    "        pic = np.rot90(pic, axes=(-1, 0))\n",
    "        plt.imshow(pic[:, 0, ::-1], cmap='gray')\n",
    "\n",
    "# model error viz\n",
    "def visualize_predicted_actual(source_label, predicted_label, y_pred, y_true, data):\n",
    "    indices = [idx for idx, (pred, gt) in enumerate(zip(y_pred, y_true)) \n",
    "               if test_data.class_to_idx[predicted_label] == pred and test_data.class_to_idx[source_label] == gt]\n",
    "    \n",
    "    visualize_images(indices, data, title=f'\"{source_label}\" which looks like '\n",
    "                     f'\"{predicted_label}\"')"
   ]
  },
  {
   "cell_type": "code",
   "execution_count": 375,
   "metadata": {},
   "outputs": [],
   "source": [
    "occ_cf = test_cf.copy()\n",
    "\n",
    "for letter in test_data.classes:\n",
    "    occ_cf.loc[letter, letter] = 0\n",
    "\n",
    "occ_cf[\"max_errors\"] = occ_cf.max(axis=1)\n",
    "occ_cf = occ_cf.sort_values(by=\"max_errors\", ascending=False)\n",
    "\n",
    "max_errors = occ_cf[\"max_errors\"].values\n",
    "occ_cf = occ_cf.drop(\"max_errors\", axis=1)\n",
    "occ_cf = occ_cf.idxmax(axis=1)"
   ]
  },
  {
   "cell_type": "code",
   "execution_count": 376,
   "metadata": {},
   "outputs": [
    {
     "data": {
      "text/plain": [
       "i    l\n",
       "l    i\n",
       "g    q\n",
       "q    g\n",
       "y    v\n",
       "c    e\n",
       "v    u\n",
       "p    f\n",
       "u    v\n",
       "f    p\n",
       "dtype: object"
      ]
     },
     "execution_count": 376,
     "metadata": {},
     "output_type": "execute_result"
    }
   ],
   "source": [
    "# These are the most confused letters, sorted in descending order by number of times left letter was confused with the right letter\n",
    "# Now I'll print a couple of them\n",
    "# Let \"v\" <-> \"u\" and \"u\" <-> \"v\" are different pairs, then top-10 most confused letter pairs are presented below\n",
    "\n",
    "occ_cf.head(10)"
   ]
  },
  {
   "cell_type": "code",
   "execution_count": 380,
   "metadata": {},
   "outputs": [
    {
     "data": {
      "image/png": "[encoded data removed]",
      "text/plain": [
       "<Figure size 720x108 with 10 Axes>"
      ]
     },
     "metadata": {
      "needs_background": "light"
     },
     "output_type": "display_data"
    },
    {
     "data": {
      "image/png": "[encoded data removed]",
      "text/plain": [
       "<Figure size 720x108 with 10 Axes>"
      ]
     },
     "metadata": {
      "needs_background": "light"
     },
     "output_type": "display_data"
    },
    {
     "data": {
      "image/png": "[encoded data removed]",
      "text/plain": [
       "<Figure size 720x108 with 10 Axes>"
      ]
     },
     "metadata": {
      "needs_background": "light"
     },
     "output_type": "display_data"
    },
    {
     "data": {
      "image/png": "[encoded data removed]",
      "text/plain": [
       "<Figure size 720x108 with 10 Axes>"
      ]
     },
     "metadata": {
      "needs_background": "light"
     },
     "output_type": "display_data"
    },
    {
     "data": {
      "image/png": "[encoded data removed]",
      "text/plain": [
       "<Figure size 720x108 with 10 Axes>"
      ]
     },
     "metadata": {
      "needs_background": "light"
     },
     "output_type": "display_data"
    },
    {
     "data": {
      "image/png": "[encoded data removed]",
      "text/plain": [
       "<Figure size 720x108 with 10 Axes>"
      ]
     },
     "metadata": {
      "needs_background": "light"
     },
     "output_type": "display_data"
    }
   ],
   "source": [
    "visualize_predicted_actual(\"i\", \"l\", test_predictions, test_labels, test_data)\n",
    "visualize_predicted_actual(\"g\", \"q\", test_predictions, test_labels, test_data)\n",
    "visualize_predicted_actual(\"y\", \"v\", test_predictions, test_labels, test_data)\n",
    "visualize_predicted_actual(\"c\", \"e\", test_predictions, test_labels, test_data)\n",
    "visualize_predicted_actual(\"v\", \"u\", test_predictions, test_labels, test_data)\n",
    "visualize_predicted_actual(\"p\", \"f\", test_predictions, test_labels, test_data)"
   ]
  },
  {
   "cell_type": "markdown",
   "metadata": {},
   "source": [
    "- There are just a couple of obvious reasons, why these letters get confused:\n",
    "    - they originally look really similar\n",
    "    - one letter can be upside-down version of another\n",
    "    - people who wrote these letters had quite bad handwriting\n",
    "    - goal of the dataset was to collect not the easiest cases, but also these ones"
   ]
  },
  {
   "cell_type": "markdown",
   "metadata": {},
   "source": [
    "### How often does the initial letter of my surname get confused with other letters?"
   ]
  },
  {
   "cell_type": "markdown",
   "metadata": {},
   "source": [
    "- Well, this letter is \"B / b\"\n",
    "- At least, it's not in top 10"
   ]
  },
  {
   "cell_type": "code",
   "execution_count": 390,
   "metadata": {},
   "outputs": [],
   "source": [
    "b_letter_occ = test_cf[\"b\"].sort_values(ascending=False)\n",
    "b_letter_occ = b_letter_occ[b_letter_occ > 0]"
   ]
  },
  {
   "cell_type": "code",
   "execution_count": 394,
   "metadata": {},
   "outputs": [
    {
     "name": "stdout",
     "output_type": "stream",
     "text": [
      "Mistakes\n"
     ]
    },
    {
     "data": {
      "text/plain": [
       "b    432\n",
       "g      9\n",
       "q      4\n",
       "d      3\n",
       "a      2\n",
       "e      2\n",
       "h      2\n",
       "o      2\n",
       "l      1\n",
       "s      1\n",
       "z      1\n",
       "k      1\n",
       "j      1\n",
       "i      1\n",
       "f      1\n",
       "Name: b, dtype: int64"
      ]
     },
     "execution_count": 394,
     "metadata": {},
     "output_type": "execute_result"
    }
   ],
   "source": [
    "print(\"Letters, which get confused with `b`\")\n",
    "\n",
    "b_letter_occ"
   ]
  },
  {
   "cell_type": "code",
   "execution_count": 393,
   "metadata": {},
   "outputs": [
    {
     "name": "stdout",
     "output_type": "stream",
     "text": [
      "Number of occurences: 463\n"
     ]
    }
   ],
   "source": [
    "print(\"Number of occurences:\", b_letter_occ.sum())"
   ]
  },
  {
   "cell_type": "markdown",
   "metadata": {},
   "source": [
    "- Letter \"b\" is quite rarely confused with other letters\n",
    "- Detection accuracy is 432 / 463 = ~93.3%"
   ]
  },
  {
   "cell_type": "markdown",
   "metadata": {},
   "source": [
    "## Training CNN models"
   ]
  },
  {
   "cell_type": "markdown",
   "metadata": {},
   "source": [
    "### [1x Conv2D] Choosing between ReLU and Tanh"
   ]
  },
  {
   "cell_type": "code",
   "execution_count": 147,
   "metadata": {},
   "outputs": [
    {
     "data": {
      "application/vnd.jupyter.widget-view+json": {
       "model_id": "65cad5de30e3418abfb75a1d28d6bb70",
       "version_major": 2,
       "version_minor": 0
      },
      "text/plain": [
       "  0%|          | 0/10 [00:00<?, ?it/s]"
      ]
     },
     "metadata": {},
     "output_type": "display_data"
    },
    {
     "data": {
      "application/vnd.jupyter.widget-view+json": {
       "model_id": "1e1fa4136dd643038cc726b6d204eb1f",
       "version_major": 2,
       "version_minor": 0
      },
      "text/plain": [
       "  0%|          | 0/254 [00:00<?, ?it/s]"
      ]
     },
     "metadata": {},
     "output_type": "display_data"
    },
    {
     "name": "stdout",
     "output_type": "stream",
     "text": [
      "Epoch 0, Average loss: 1.546, Train accuracy: 0.685, Test accuracy: 0.817\n"
     ]
    },
    {
     "data": {
      "application/vnd.jupyter.widget-view+json": {
       "model_id": "069f2bafd11d46af99c24fd1d82aaa5b",
       "version_major": 2,
       "version_minor": 0
      },
      "text/plain": [
       "  0%|          | 0/254 [00:00<?, ?it/s]"
      ]
     },
     "metadata": {},
     "output_type": "display_data"
    },
    {
     "name": "stdout",
     "output_type": "stream",
     "text": [
      "Epoch 1, Average loss: 1.105, Train accuracy: 0.843, Test accuracy: 0.869\n"
     ]
    },
    {
     "data": {
      "application/vnd.jupyter.widget-view+json": {
       "model_id": "be120bff26614fa6beae0d1b4e98b0f0",
       "version_major": 2,
       "version_minor": 0
      },
      "text/plain": [
       "  0%|          | 0/254 [00:00<?, ?it/s]"
      ]
     },
     "metadata": {},
     "output_type": "display_data"
    },
    {
     "name": "stdout",
     "output_type": "stream",
     "text": [
      "Epoch 2, Average loss: 1.060, Train accuracy: 0.857, Test accuracy: 0.876\n"
     ]
    },
    {
     "data": {
      "application/vnd.jupyter.widget-view+json": {
       "model_id": "7a98af0ea1c44323a47b89b9158af270",
       "version_major": 2,
       "version_minor": 0
      },
      "text/plain": [
       "  0%|          | 0/254 [00:00<?, ?it/s]"
      ]
     },
     "metadata": {},
     "output_type": "display_data"
    },
    {
     "name": "stdout",
     "output_type": "stream",
     "text": [
      "Epoch 3, Average loss: 0.944, Train accuracy: 0.897, Test accuracy: 0.903\n"
     ]
    },
    {
     "data": {
      "application/vnd.jupyter.widget-view+json": {
       "model_id": "d4b8d50bc67b4608abc19868d15f9978",
       "version_major": 2,
       "version_minor": 0
      },
      "text/plain": [
       "  0%|          | 0/254 [00:00<?, ?it/s]"
      ]
     },
     "metadata": {},
     "output_type": "display_data"
    },
    {
     "name": "stdout",
     "output_type": "stream",
     "text": [
      "Epoch 4, Average loss: 0.945, Train accuracy: 0.897, Test accuracy: 0.904\n"
     ]
    },
    {
     "data": {
      "application/vnd.jupyter.widget-view+json": {
       "model_id": "382400b767754adaa02bf0cfa68ba849",
       "version_major": 2,
       "version_minor": 0
      },
      "text/plain": [
       "  0%|          | 0/254 [00:00<?, ?it/s]"
      ]
     },
     "metadata": {},
     "output_type": "display_data"
    },
    {
     "name": "stdout",
     "output_type": "stream",
     "text": [
      "Epoch 5, Average loss: 0.882, Train accuracy: 0.918, Test accuracy: 0.912\n"
     ]
    },
    {
     "data": {
      "application/vnd.jupyter.widget-view+json": {
       "model_id": "c52e19cc432949a7bbc024e3e159c288",
       "version_major": 2,
       "version_minor": 0
      },
      "text/plain": [
       "  0%|          | 0/254 [00:00<?, ?it/s]"
      ]
     },
     "metadata": {},
     "output_type": "display_data"
    },
    {
     "name": "stdout",
     "output_type": "stream",
     "text": [
      "Epoch 6, Average loss: 0.896, Train accuracy: 0.914, Test accuracy: 0.906\n"
     ]
    },
    {
     "data": {
      "application/vnd.jupyter.widget-view+json": {
       "model_id": "b6302771296846a4a119afc5437e9524",
       "version_major": 2,
       "version_minor": 0
      },
      "text/plain": [
       "  0%|          | 0/254 [00:00<?, ?it/s]"
      ]
     },
     "metadata": {},
     "output_type": "display_data"
    },
    {
     "name": "stdout",
     "output_type": "stream",
     "text": [
      "Epoch 7, Average loss: 0.844, Train accuracy: 0.931, Test accuracy: 0.918\n"
     ]
    },
    {
     "data": {
      "application/vnd.jupyter.widget-view+json": {
       "model_id": "eb4ffbb67c9044fbbba6d50b24093997",
       "version_major": 2,
       "version_minor": 0
      },
      "text/plain": [
       "  0%|          | 0/254 [00:00<?, ?it/s]"
      ]
     },
     "metadata": {},
     "output_type": "display_data"
    },
    {
     "name": "stdout",
     "output_type": "stream",
     "text": [
      "Epoch 8, Average loss: 0.861, Train accuracy: 0.926, Test accuracy: 0.912\n"
     ]
    },
    {
     "data": {
      "application/vnd.jupyter.widget-view+json": {
       "model_id": "e6761213f4e24910a9e19413daf0fb2a",
       "version_major": 2,
       "version_minor": 0
      },
      "text/plain": [
       "  0%|          | 0/254 [00:00<?, ?it/s]"
      ]
     },
     "metadata": {},
     "output_type": "display_data"
    },
    {
     "name": "stdout",
     "output_type": "stream",
     "text": [
      "Epoch 9, Average loss: 0.819, Train accuracy: 0.941, Test accuracy: 0.924\n"
     ]
    }
   ],
   "source": [
    "# defining model architecture in a concise way\n",
    "# best models are checkpointed\n",
    "\n",
    "# NB! Here I decided not to use any validation sets and will try to get best model, validating directly on the test set\n",
    "# (just for speed purposes)\n",
    "\n",
    "# 1-layer cnn [conv1_size = 64, kernel_size=3]\n",
    "\n",
    "# kernel_size value is ok here, i don't see any reasons to make it larger (e.g. 5)\n",
    "# cause our image is kinda small itself,\n",
    "# maybe i'll tune kernel_size and make it larger\n",
    "# padding is ok too unless kernel_size <= 4\n",
    "\n",
    "# tanh activation between layers\n",
    "\n",
    "model_cnn1 = nn.Sequential(\n",
    "    nn.Conv2d(1, 64, kernel_size=3, padding=1),\n",
    "    nn.Tanh(),\n",
    "    nn.AdaptiveAvgPool2d(14),\n",
    "    nn.Flatten(),\n",
    "\n",
    "    nn.Linear(64 * 14 * 14, 1024),\n",
    "    nn.Tanh(),\n",
    "    nn.LazyLinear(512),\n",
    "    nn.Tanh(),\n",
    "    nn.LazyLinear(26),\n",
    ")\n",
    "\n",
    "# training\n",
    "\n",
    "# added label smoothing as it often really helps increasing metrics xd\n",
    "loss = nn.CrossEntropyLoss(label_smoothing=0.1)\n",
    "cnn1_loss, cnn1_train, cnn1_val, model = train_emnist(\n",
    "    model_cnn1, \n",
    "    loss, \n",
    "    model_name=\"cnn1_tanh_conv1_64\", \n",
    "    lr=3e-4, \n",
    "    batch_size=256, \n",
    "    num_epochs=10\n",
    ")\n",
    "\n",
    "# BEST TEST ACCURACY -- `0.924`"
   ]
  },
  {
   "cell_type": "code",
   "execution_count": 148,
   "metadata": {},
   "outputs": [
    {
     "data": {
      "application/vnd.jupyter.widget-view+json": {
       "model_id": "cb7634d8c4614f42bb98a86b7ca92e0d",
       "version_major": 2,
       "version_minor": 0
      },
      "text/plain": [
       "  0%|          | 0/10 [00:00<?, ?it/s]"
      ]
     },
     "metadata": {},
     "output_type": "display_data"
    },
    {
     "data": {
      "application/vnd.jupyter.widget-view+json": {
       "model_id": "dcd86032bbaa4103941916edba732879",
       "version_major": 2,
       "version_minor": 0
      },
      "text/plain": [
       "  0%|          | 0/254 [00:00<?, ?it/s]"
      ]
     },
     "metadata": {},
     "output_type": "display_data"
    },
    {
     "name": "stdout",
     "output_type": "stream",
     "text": [
      "Epoch 0, Average loss: 1.624, Train accuracy: 0.660, Test accuracy: 0.817\n"
     ]
    },
    {
     "data": {
      "application/vnd.jupyter.widget-view+json": {
       "model_id": "b7fba47573ab45bcaef829505258eeec",
       "version_major": 2,
       "version_minor": 0
      },
      "text/plain": [
       "  0%|          | 0/254 [00:00<?, ?it/s]"
      ]
     },
     "metadata": {},
     "output_type": "display_data"
    },
    {
     "name": "stdout",
     "output_type": "stream",
     "text": [
      "Epoch 1, Average loss: 1.076, Train accuracy: 0.857, Test accuracy: 0.880\n"
     ]
    },
    {
     "data": {
      "application/vnd.jupyter.widget-view+json": {
       "model_id": "f20264b7b6b84d12b500537386320a1f",
       "version_major": 2,
       "version_minor": 0
      },
      "text/plain": [
       "  0%|          | 0/254 [00:00<?, ?it/s]"
      ]
     },
     "metadata": {},
     "output_type": "display_data"
    },
    {
     "name": "stdout",
     "output_type": "stream",
     "text": [
      "Epoch 2, Average loss: 1.006, Train accuracy: 0.879, Test accuracy: 0.902\n"
     ]
    },
    {
     "data": {
      "application/vnd.jupyter.widget-view+json": {
       "model_id": "db8ee288c3d94c30892aa8963e326603",
       "version_major": 2,
       "version_minor": 0
      },
      "text/plain": [
       "  0%|          | 0/254 [00:00<?, ?it/s]"
      ]
     },
     "metadata": {},
     "output_type": "display_data"
    },
    {
     "name": "stdout",
     "output_type": "stream",
     "text": [
      "Epoch 3, Average loss: 0.909, Train accuracy: 0.912, Test accuracy: 0.917\n"
     ]
    },
    {
     "data": {
      "application/vnd.jupyter.widget-view+json": {
       "model_id": "0a01858c309947e8b36e6bc4508708bc",
       "version_major": 2,
       "version_minor": 0
      },
      "text/plain": [
       "  0%|          | 0/254 [00:00<?, ?it/s]"
      ]
     },
     "metadata": {},
     "output_type": "display_data"
    },
    {
     "name": "stdout",
     "output_type": "stream",
     "text": [
      "Epoch 4, Average loss: 0.909, Train accuracy: 0.911, Test accuracy: 0.917\n"
     ]
    },
    {
     "data": {
      "application/vnd.jupyter.widget-view+json": {
       "model_id": "30631d25673643708b21a10562b96995",
       "version_major": 2,
       "version_minor": 0
      },
      "text/plain": [
       "  0%|          | 0/254 [00:00<?, ?it/s]"
      ]
     },
     "metadata": {},
     "output_type": "display_data"
    },
    {
     "name": "stdout",
     "output_type": "stream",
     "text": [
      "Epoch 5, Average loss: 0.854, Train accuracy: 0.929, Test accuracy: 0.929\n"
     ]
    },
    {
     "data": {
      "application/vnd.jupyter.widget-view+json": {
       "model_id": "84d704884b754c3d9db5eeceb81ace3d",
       "version_major": 2,
       "version_minor": 0
      },
      "text/plain": [
       "  0%|          | 0/254 [00:00<?, ?it/s]"
      ]
     },
     "metadata": {},
     "output_type": "display_data"
    },
    {
     "name": "stdout",
     "output_type": "stream",
     "text": [
      "Epoch 6, Average loss: 0.864, Train accuracy: 0.925, Test accuracy: 0.928\n"
     ]
    },
    {
     "data": {
      "application/vnd.jupyter.widget-view+json": {
       "model_id": "d23352dca81646ca8c01ff0921197d2c",
       "version_major": 2,
       "version_minor": 0
      },
      "text/plain": [
       "  0%|          | 0/254 [00:00<?, ?it/s]"
      ]
     },
     "metadata": {},
     "output_type": "display_data"
    },
    {
     "name": "stdout",
     "output_type": "stream",
     "text": [
      "Epoch 7, Average loss: 0.824, Train accuracy: 0.939, Test accuracy: 0.932\n"
     ]
    },
    {
     "data": {
      "application/vnd.jupyter.widget-view+json": {
       "model_id": "69b035fe4cf64b5b9593be135c777d8f",
       "version_major": 2,
       "version_minor": 0
      },
      "text/plain": [
       "  0%|          | 0/254 [00:00<?, ?it/s]"
      ]
     },
     "metadata": {},
     "output_type": "display_data"
    },
    {
     "name": "stdout",
     "output_type": "stream",
     "text": [
      "Epoch 8, Average loss: 0.834, Train accuracy: 0.935, Test accuracy: 0.925\n"
     ]
    },
    {
     "data": {
      "application/vnd.jupyter.widget-view+json": {
       "model_id": "91a491edf15341c7ae0a1a21873832bb",
       "version_major": 2,
       "version_minor": 0
      },
      "text/plain": [
       "  0%|          | 0/254 [00:00<?, ?it/s]"
      ]
     },
     "metadata": {},
     "output_type": "display_data"
    },
    {
     "name": "stdout",
     "output_type": "stream",
     "text": [
      "Epoch 9, Average loss: 0.800, Train accuracy: 0.947, Test accuracy: 0.935\n"
     ]
    }
   ],
   "source": [
    "# 1-layer cnn [conv1_size = 64, kernel_size=3]\n",
    "# relu activation between layers\n",
    "\n",
    "model_cnn1 = nn.Sequential(\n",
    "    nn.Conv2d(1, 64, kernel_size=3, padding=1),\n",
    "    nn.ReLU(),\n",
    "    nn.AdaptiveAvgPool2d(14),\n",
    "    nn.Flatten(),\n",
    "\n",
    "    nn.Linear(64 * 14 * 14, 1024),\n",
    "    nn.ReLU(),\n",
    "    nn.LazyLinear(512),\n",
    "    nn.ReLU(),\n",
    "    nn.LazyLinear(26),\n",
    ")\n",
    "\n",
    "# training\n",
    "loss = nn.CrossEntropyLoss(label_smoothing=0.1)\n",
    "cnn1_loss, cnn1_train, cnn1_val, model = train_emnist(\n",
    "    model_cnn1, \n",
    "    loss, \n",
    "    model_name=\"cnn1_relu_conv1_64\", \n",
    "    lr=3e-4, \n",
    "    batch_size=256, \n",
    "    num_epochs=10\n",
    ")\n",
    "\n",
    "# BEST TEST ACCURACY -- `0.935`"
   ]
  },
  {
   "cell_type": "code",
   "execution_count": 150,
   "metadata": {},
   "outputs": [
    {
     "data": {
      "application/vnd.jupyter.widget-view+json": {
       "model_id": "b46947e70e864868af9fab6d6c6beff8",
       "version_major": 2,
       "version_minor": 0
      },
      "text/plain": [
       "  0%|          | 0/10 [00:00<?, ?it/s]"
      ]
     },
     "metadata": {},
     "output_type": "display_data"
    },
    {
     "data": {
      "application/vnd.jupyter.widget-view+json": {
       "model_id": "848019e0d66b4e34817981fbf6da4dd9",
       "version_major": 2,
       "version_minor": 0
      },
      "text/plain": [
       "  0%|          | 0/254 [00:00<?, ?it/s]"
      ]
     },
     "metadata": {},
     "output_type": "display_data"
    },
    {
     "name": "stdout",
     "output_type": "stream",
     "text": [
      "Epoch 0, Average loss: 1.541, Train accuracy: 0.688, Test accuracy: 0.845\n"
     ]
    },
    {
     "data": {
      "application/vnd.jupyter.widget-view+json": {
       "model_id": "854a951910fa44cd90b69a56457838f9",
       "version_major": 2,
       "version_minor": 0
      },
      "text/plain": [
       "  0%|          | 0/254 [00:00<?, ?it/s]"
      ]
     },
     "metadata": {},
     "output_type": "display_data"
    },
    {
     "name": "stdout",
     "output_type": "stream",
     "text": [
      "Epoch 1, Average loss: 1.032, Train accuracy: 0.872, Test accuracy: 0.894\n"
     ]
    },
    {
     "data": {
      "application/vnd.jupyter.widget-view+json": {
       "model_id": "9305eba0ccf349f98205ac7d4d95b81a",
       "version_major": 2,
       "version_minor": 0
      },
      "text/plain": [
       "  0%|          | 0/254 [00:00<?, ?it/s]"
      ]
     },
     "metadata": {},
     "output_type": "display_data"
    },
    {
     "name": "stdout",
     "output_type": "stream",
     "text": [
      "Epoch 2, Average loss: 0.976, Train accuracy: 0.888, Test accuracy: 0.910\n"
     ]
    },
    {
     "data": {
      "application/vnd.jupyter.widget-view+json": {
       "model_id": "b102b4ee2b254e6ea3711aeb3cef401a",
       "version_major": 2,
       "version_minor": 0
      },
      "text/plain": [
       "  0%|          | 0/254 [00:00<?, ?it/s]"
      ]
     },
     "metadata": {},
     "output_type": "display_data"
    },
    {
     "name": "stdout",
     "output_type": "stream",
     "text": [
      "Epoch 3, Average loss: 0.890, Train accuracy: 0.916, Test accuracy: 0.919\n"
     ]
    },
    {
     "data": {
      "application/vnd.jupyter.widget-view+json": {
       "model_id": "2d145467538c450fa670f44f4ed641bd",
       "version_major": 2,
       "version_minor": 0
      },
      "text/plain": [
       "  0%|          | 0/254 [00:00<?, ?it/s]"
      ]
     },
     "metadata": {},
     "output_type": "display_data"
    },
    {
     "name": "stdout",
     "output_type": "stream",
     "text": [
      "Epoch 4, Average loss: 0.894, Train accuracy: 0.916, Test accuracy: 0.918\n"
     ]
    },
    {
     "data": {
      "application/vnd.jupyter.widget-view+json": {
       "model_id": "299e9a946cbd4987b21352bd4067304a",
       "version_major": 2,
       "version_minor": 0
      },
      "text/plain": [
       "  0%|          | 0/254 [00:00<?, ?it/s]"
      ]
     },
     "metadata": {},
     "output_type": "display_data"
    },
    {
     "name": "stdout",
     "output_type": "stream",
     "text": [
      "Epoch 5, Average loss: 0.839, Train accuracy: 0.933, Test accuracy: 0.928\n"
     ]
    },
    {
     "data": {
      "application/vnd.jupyter.widget-view+json": {
       "model_id": "ad3675387e07481e99af7cfa7034d9fa",
       "version_major": 2,
       "version_minor": 0
      },
      "text/plain": [
       "  0%|          | 0/254 [00:00<?, ?it/s]"
      ]
     },
     "metadata": {},
     "output_type": "display_data"
    },
    {
     "name": "stdout",
     "output_type": "stream",
     "text": [
      "Epoch 6, Average loss: 0.852, Train accuracy: 0.928, Test accuracy: 0.919\n"
     ]
    },
    {
     "data": {
      "application/vnd.jupyter.widget-view+json": {
       "model_id": "5db3e7a732464b7695840e29ec6a8774",
       "version_major": 2,
       "version_minor": 0
      },
      "text/plain": [
       "  0%|          | 0/254 [00:00<?, ?it/s]"
      ]
     },
     "metadata": {},
     "output_type": "display_data"
    },
    {
     "name": "stdout",
     "output_type": "stream",
     "text": [
      "Epoch 7, Average loss: 0.808, Train accuracy: 0.943, Test accuracy: 0.932\n"
     ]
    },
    {
     "data": {
      "application/vnd.jupyter.widget-view+json": {
       "model_id": "885b5c3f71b345c1b8ad793f6e02c440",
       "version_major": 2,
       "version_minor": 0
      },
      "text/plain": [
       "  0%|          | 0/254 [00:00<?, ?it/s]"
      ]
     },
     "metadata": {},
     "output_type": "display_data"
    },
    {
     "name": "stdout",
     "output_type": "stream",
     "text": [
      "Epoch 8, Average loss: 0.822, Train accuracy: 0.938, Test accuracy: 0.928\n"
     ]
    },
    {
     "data": {
      "application/vnd.jupyter.widget-view+json": {
       "model_id": "21195d7fc7de407490ffb53729c4ba4a",
       "version_major": 2,
       "version_minor": 0
      },
      "text/plain": [
       "  0%|          | 0/254 [00:00<?, ?it/s]"
      ]
     },
     "metadata": {},
     "output_type": "display_data"
    },
    {
     "name": "stdout",
     "output_type": "stream",
     "text": [
      "Epoch 9, Average loss: 0.787, Train accuracy: 0.951, Test accuracy: 0.936\n"
     ]
    }
   ],
   "source": [
    "# 1-layer cnn [conv1_size = 128, kernel_size=3]\n",
    "# relu activation between layers\n",
    "# Only conv1_size (128) differes it from the previous model (64), we won't use it later\n",
    "\n",
    "model_cnn1 = nn.Sequential(\n",
    "    nn.Conv2d(1, 128, kernel_size=3, padding=1),\n",
    "    nn.ReLU(),\n",
    "    nn.AdaptiveAvgPool2d(14),\n",
    "    nn.Flatten(),\n",
    "\n",
    "    nn.Linear(128 * 14 * 14, 1024),\n",
    "    nn.ReLU(),\n",
    "    nn.LazyLinear(512),\n",
    "    nn.ReLU(),\n",
    "    nn.LazyLinear(26),\n",
    ")\n",
    "\n",
    "# training\n",
    "loss = nn.CrossEntropyLoss(label_smoothing=0.1)\n",
    "cnn1_loss, cnn1_train, cnn1_val, model = train_emnist(\n",
    "    model_cnn1, \n",
    "    loss, \n",
    "    model_name=\"cnn1_relu_conv1_128\",\n",
    "    lr=3e-4, \n",
    "    batch_size=256, \n",
    "    num_epochs=10\n",
    ")\n",
    "\n",
    "# BEST TEST ACCURACY -- `0.936`\n",
    "# it isn't really better than the previous one, so i'll stick to conv1_size == 64 in the first conv2d layer"
   ]
  },
  {
   "cell_type": "markdown",
   "metadata": {},
   "source": [
    "### [2x Conv2D] Testing 2-layer CNN"
   ]
  },
  {
   "cell_type": "code",
   "execution_count": 155,
   "metadata": {},
   "outputs": [
    {
     "data": {
      "application/vnd.jupyter.widget-view+json": {
       "model_id": "a5a82597269f4c3d8380717dfd7b0b56",
       "version_major": 2,
       "version_minor": 0
      },
      "text/plain": [
       "  0%|          | 0/10 [00:00<?, ?it/s]"
      ]
     },
     "metadata": {},
     "output_type": "display_data"
    },
    {
     "data": {
      "application/vnd.jupyter.widget-view+json": {
       "model_id": "c2c10e36b09e402f9a7fbd8abe6914c3",
       "version_major": 2,
       "version_minor": 0
      },
      "text/plain": [
       "  0%|          | 0/254 [00:00<?, ?it/s]"
      ]
     },
     "metadata": {},
     "output_type": "display_data"
    },
    {
     "name": "stdout",
     "output_type": "stream",
     "text": [
      "Epoch 0, Average loss: 1.663, Train accuracy: 0.641, Test accuracy: 0.850\n"
     ]
    },
    {
     "data": {
      "application/vnd.jupyter.widget-view+json": {
       "model_id": "808106b5d2cf44cf8d84bf5f71dc01da",
       "version_major": 2,
       "version_minor": 0
      },
      "text/plain": [
       "  0%|          | 0/254 [00:00<?, ?it/s]"
      ]
     },
     "metadata": {},
     "output_type": "display_data"
    },
    {
     "name": "stdout",
     "output_type": "stream",
     "text": [
      "Epoch 1, Average loss: 1.015, Train accuracy: 0.878, Test accuracy: 0.899\n"
     ]
    },
    {
     "data": {
      "application/vnd.jupyter.widget-view+json": {
       "model_id": "d908f907a1004708a9781a37b5121f5f",
       "version_major": 2,
       "version_minor": 0
      },
      "text/plain": [
       "  0%|          | 0/254 [00:00<?, ?it/s]"
      ]
     },
     "metadata": {},
     "output_type": "display_data"
    },
    {
     "name": "stdout",
     "output_type": "stream",
     "text": [
      "Epoch 2, Average loss: 0.951, Train accuracy: 0.895, Test accuracy: 0.912\n"
     ]
    },
    {
     "data": {
      "application/vnd.jupyter.widget-view+json": {
       "model_id": "46b3d436093a49bd88ce1cde9d8c1841",
       "version_major": 2,
       "version_minor": 0
      },
      "text/plain": [
       "  0%|          | 0/254 [00:00<?, ?it/s]"
      ]
     },
     "metadata": {},
     "output_type": "display_data"
    },
    {
     "name": "stdout",
     "output_type": "stream",
     "text": [
      "Epoch 3, Average loss: 0.871, Train accuracy: 0.921, Test accuracy: 0.928\n"
     ]
    },
    {
     "data": {
      "application/vnd.jupyter.widget-view+json": {
       "model_id": "b6649f6e1bcb4c02be73c09f3d37c4b7",
       "version_major": 2,
       "version_minor": 0
      },
      "text/plain": [
       "  0%|          | 0/254 [00:00<?, ?it/s]"
      ]
     },
     "metadata": {},
     "output_type": "display_data"
    },
    {
     "name": "stdout",
     "output_type": "stream",
     "text": [
      "Epoch 4, Average loss: 0.867, Train accuracy: 0.921, Test accuracy: 0.927\n"
     ]
    },
    {
     "data": {
      "application/vnd.jupyter.widget-view+json": {
       "model_id": "9cf097329b8c4a9ea6af1c400024d4cf",
       "version_major": 2,
       "version_minor": 0
      },
      "text/plain": [
       "  0%|          | 0/254 [00:00<?, ?it/s]"
      ]
     },
     "metadata": {},
     "output_type": "display_data"
    },
    {
     "name": "stdout",
     "output_type": "stream",
     "text": [
      "Epoch 5, Average loss: 0.823, Train accuracy: 0.935, Test accuracy: 0.938\n"
     ]
    },
    {
     "data": {
      "application/vnd.jupyter.widget-view+json": {
       "model_id": "19c26a6f787c48c993c2377a25eaf5a1",
       "version_major": 2,
       "version_minor": 0
      },
      "text/plain": [
       "  0%|          | 0/254 [00:00<?, ?it/s]"
      ]
     },
     "metadata": {},
     "output_type": "display_data"
    },
    {
     "name": "stdout",
     "output_type": "stream",
     "text": [
      "Epoch 6, Average loss: 0.830, Train accuracy: 0.933, Test accuracy: 0.934\n"
     ]
    },
    {
     "data": {
      "application/vnd.jupyter.widget-view+json": {
       "model_id": "79e15f88b50e47bb9eaaeedf7279ba22",
       "version_major": 2,
       "version_minor": 0
      },
      "text/plain": [
       "  0%|          | 0/254 [00:00<?, ?it/s]"
      ]
     },
     "metadata": {},
     "output_type": "display_data"
    },
    {
     "name": "stdout",
     "output_type": "stream",
     "text": [
      "Epoch 7, Average loss: 0.796, Train accuracy: 0.944, Test accuracy: 0.941\n"
     ]
    },
    {
     "data": {
      "application/vnd.jupyter.widget-view+json": {
       "model_id": "af632b2ef2ce4ed0814646d58d783a34",
       "version_major": 2,
       "version_minor": 0
      },
      "text/plain": [
       "  0%|          | 0/254 [00:00<?, ?it/s]"
      ]
     },
     "metadata": {},
     "output_type": "display_data"
    },
    {
     "name": "stdout",
     "output_type": "stream",
     "text": [
      "Epoch 8, Average loss: 0.807, Train accuracy: 0.940, Test accuracy: 0.937\n"
     ]
    },
    {
     "data": {
      "application/vnd.jupyter.widget-view+json": {
       "model_id": "70b783254eb6462e906123760d620be0",
       "version_major": 2,
       "version_minor": 0
      },
      "text/plain": [
       "  0%|          | 0/254 [00:00<?, ?it/s]"
      ]
     },
     "metadata": {},
     "output_type": "display_data"
    },
    {
     "name": "stdout",
     "output_type": "stream",
     "text": [
      "Epoch 9, Average loss: 0.778, Train accuracy: 0.949, Test accuracy: 0.943\n"
     ]
    }
   ],
   "source": [
    "# 2-layer cnn [conv1_size = 64, conv2_size = 128, kernel_size=3]\n",
    "# relu activation between layers\n",
    "\n",
    "model_cnn2 = nn.Sequential(\n",
    "    nn.Conv2d(1, 64, kernel_size=3, padding=1),\n",
    "    nn.ReLU(),\n",
    "    nn.AdaptiveAvgPool2d(14),\n",
    "    nn.Conv2d(64, 128, kernel_size=3, padding=1),\n",
    "    nn.ReLU(),\n",
    "    nn.AdaptiveAvgPool2d(7),\n",
    "    nn.Flatten(),\n",
    "\n",
    "    nn.Linear(128 * 7 * 7, 1024),\n",
    "    nn.ReLU(),\n",
    "    nn.LazyLinear(512),\n",
    "    nn.ReLU(),\n",
    "    nn.LazyLinear(26),\n",
    ")\n",
    "\n",
    "# training\n",
    "loss = nn.CrossEntropyLoss(label_smoothing=0.1)\n",
    "cnn2_loss, cnn2_train, cnn2_val, model = train_emnist(\n",
    "    model_cnn2, \n",
    "    loss, \n",
    "    model_name=\"cnn2_relu_conv1_64_conv2_128\",\n",
    "    lr=3e-4, \n",
    "    batch_size=256, \n",
    "    num_epochs=10\n",
    ")\n",
    "\n",
    "# BEST TEST ACCURACY -- `0.943`"
   ]
  },
  {
   "cell_type": "markdown",
   "metadata": {},
   "source": [
    "### [3x Conv2D] Testing 3-layer CNN"
   ]
  },
  {
   "cell_type": "code",
   "execution_count": 157,
   "metadata": {},
   "outputs": [
    {
     "data": {
      "application/vnd.jupyter.widget-view+json": {
       "model_id": "4d715c2ffbae4a1bbfa5d7e40565c1ef",
       "version_major": 2,
       "version_minor": 0
      },
      "text/plain": [
       "  0%|          | 0/10 [00:00<?, ?it/s]"
      ]
     },
     "metadata": {},
     "output_type": "display_data"
    },
    {
     "data": {
      "application/vnd.jupyter.widget-view+json": {
       "model_id": "6baa7c60d1ea4043b3f8a6ef230a61a3",
       "version_major": 2,
       "version_minor": 0
      },
      "text/plain": [
       "  0%|          | 0/254 [00:00<?, ?it/s]"
      ]
     },
     "metadata": {},
     "output_type": "display_data"
    },
    {
     "name": "stdout",
     "output_type": "stream",
     "text": [
      "Epoch 0, Average loss: 1.538, Train accuracy: 0.685, Test accuracy: 0.870\n"
     ]
    },
    {
     "data": {
      "application/vnd.jupyter.widget-view+json": {
       "model_id": "b3d7b9f6918b4e97bb13851a4a5175c3",
       "version_major": 2,
       "version_minor": 0
      },
      "text/plain": [
       "  0%|          | 0/254 [00:00<?, ?it/s]"
      ]
     },
     "metadata": {},
     "output_type": "display_data"
    },
    {
     "name": "stdout",
     "output_type": "stream",
     "text": [
      "Epoch 1, Average loss: 0.955, Train accuracy: 0.892, Test accuracy: 0.908\n"
     ]
    },
    {
     "data": {
      "application/vnd.jupyter.widget-view+json": {
       "model_id": "d4d471f8d6964530be8e7c6916b79854",
       "version_major": 2,
       "version_minor": 0
      },
      "text/plain": [
       "  0%|          | 0/254 [00:00<?, ?it/s]"
      ]
     },
     "metadata": {},
     "output_type": "display_data"
    },
    {
     "name": "stdout",
     "output_type": "stream",
     "text": [
      "Epoch 2, Average loss: 0.921, Train accuracy: 0.902, Test accuracy: 0.916\n"
     ]
    },
    {
     "data": {
      "application/vnd.jupyter.widget-view+json": {
       "model_id": "63d7a182252d49a584306bfcbf1185f0",
       "version_major": 2,
       "version_minor": 0
      },
      "text/plain": [
       "  0%|          | 0/254 [00:00<?, ?it/s]"
      ]
     },
     "metadata": {},
     "output_type": "display_data"
    },
    {
     "name": "stdout",
     "output_type": "stream",
     "text": [
      "Epoch 3, Average loss: 0.839, Train accuracy: 0.929, Test accuracy: 0.934\n"
     ]
    },
    {
     "data": {
      "application/vnd.jupyter.widget-view+json": {
       "model_id": "c18e6ab927f341fe950cd0b0936cdfb6",
       "version_major": 2,
       "version_minor": 0
      },
      "text/plain": [
       "  0%|          | 0/254 [00:00<?, ?it/s]"
      ]
     },
     "metadata": {},
     "output_type": "display_data"
    },
    {
     "name": "stdout",
     "output_type": "stream",
     "text": [
      "Epoch 4, Average loss: 0.840, Train accuracy: 0.928, Test accuracy: 0.928\n"
     ]
    },
    {
     "data": {
      "application/vnd.jupyter.widget-view+json": {
       "model_id": "4c53c2121de04b389a738d1ab61e8883",
       "version_major": 2,
       "version_minor": 0
      },
      "text/plain": [
       "  0%|          | 0/254 [00:00<?, ?it/s]"
      ]
     },
     "metadata": {},
     "output_type": "display_data"
    },
    {
     "name": "stdout",
     "output_type": "stream",
     "text": [
      "Epoch 5, Average loss: 0.795, Train accuracy: 0.943, Test accuracy: 0.938\n"
     ]
    },
    {
     "data": {
      "application/vnd.jupyter.widget-view+json": {
       "model_id": "eba81bb43bbc464798c3444431db1f4a",
       "version_major": 2,
       "version_minor": 0
      },
      "text/plain": [
       "  0%|          | 0/254 [00:00<?, ?it/s]"
      ]
     },
     "metadata": {},
     "output_type": "display_data"
    },
    {
     "name": "stdout",
     "output_type": "stream",
     "text": [
      "Epoch 6, Average loss: 0.803, Train accuracy: 0.939, Test accuracy: 0.935\n"
     ]
    },
    {
     "data": {
      "application/vnd.jupyter.widget-view+json": {
       "model_id": "be99bfe3c1234075ae2fdff021b82468",
       "version_major": 2,
       "version_minor": 0
      },
      "text/plain": [
       "  0%|          | 0/254 [00:00<?, ?it/s]"
      ]
     },
     "metadata": {},
     "output_type": "display_data"
    },
    {
     "name": "stdout",
     "output_type": "stream",
     "text": [
      "Epoch 7, Average loss: 0.768, Train accuracy: 0.952, Test accuracy: 0.943\n"
     ]
    },
    {
     "data": {
      "application/vnd.jupyter.widget-view+json": {
       "model_id": "fb9eb05634af45e49d37b27969eae68d",
       "version_major": 2,
       "version_minor": 0
      },
      "text/plain": [
       "  0%|          | 0/254 [00:00<?, ?it/s]"
      ]
     },
     "metadata": {},
     "output_type": "display_data"
    },
    {
     "name": "stdout",
     "output_type": "stream",
     "text": [
      "Epoch 8, Average loss: 0.781, Train accuracy: 0.947, Test accuracy: 0.938\n"
     ]
    },
    {
     "data": {
      "application/vnd.jupyter.widget-view+json": {
       "model_id": "7c55224ec6944000967a1c0c0427ebee",
       "version_major": 2,
       "version_minor": 0
      },
      "text/plain": [
       "  0%|          | 0/254 [00:00<?, ?it/s]"
      ]
     },
     "metadata": {},
     "output_type": "display_data"
    },
    {
     "name": "stdout",
     "output_type": "stream",
     "text": [
      "Epoch 9, Average loss: 0.749, Train accuracy: 0.957, Test accuracy: 0.943\n"
     ]
    }
   ],
   "source": [
    "# 3-layer cnn [conv1_size = 64, conv2_size = 128, conv3_size=256, kernel_size=3]\n",
    "# relu activation between layers\n",
    "\n",
    "# configuration with 32/64/128 conv sizes was also tested, but has shown slightly worse results, so we'll use this version\n",
    "\n",
    "model_cnn3 = nn.Sequential(\n",
    "    nn.Conv2d(1, 64, kernel_size=3, padding=1),\n",
    "    nn.ReLU(),\n",
    "    nn.AdaptiveAvgPool2d(14),\n",
    "    nn.Conv2d(64, 128, kernel_size=3, padding=1),\n",
    "    nn.ReLU(),\n",
    "    nn.AdaptiveAvgPool2d(7),\n",
    "    nn.Conv2d(128, 256, kernel_size=3, padding=1),\n",
    "    nn.ReLU(),\n",
    "    nn.Flatten(),\n",
    "\n",
    "    nn.Linear(256 * 7 * 7, 1024),\n",
    "    nn.ReLU(),\n",
    "    nn.LazyLinear(512),\n",
    "    nn.ReLU(),\n",
    "    nn.LazyLinear(26),\n",
    ")\n",
    "\n",
    "# training\n",
    "loss = nn.CrossEntropyLoss(label_smoothing=0.1)\n",
    "cnn3_loss, cnn3_train, cnn3_val, model = train_emnist(\n",
    "    model_cnn3, \n",
    "    loss, \n",
    "    model_name=\"cnn3_relu_conv1_64_conv2_128_conv3_256\",\n",
    "    lr=3e-4, \n",
    "    batch_size=256,\n",
    "    num_epochs=10\n",
    ")\n",
    "\n",
    "# BEST TEST ACCURACY -- `0.943` (didn't change, but let's take this model for further experiments)"
   ]
  },
  {
   "cell_type": "markdown",
   "metadata": {},
   "source": [
    "### Batch size correlation with BatchNorm"
   ]
  },
  {
   "cell_type": "code",
   "execution_count": 165,
   "metadata": {},
   "outputs": [
    {
     "data": {
      "application/vnd.jupyter.widget-view+json": {
       "model_id": "8b44009b9c9746b69329704b4f842abe",
       "version_major": 2,
       "version_minor": 0
      },
      "text/plain": [
       "  0%|          | 0/3 [00:00<?, ?it/s]"
      ]
     },
     "metadata": {},
     "output_type": "display_data"
    },
    {
     "data": {
      "application/vnd.jupyter.widget-view+json": {
       "model_id": "e256cdb218d7486f8478c13498f64b91",
       "version_major": 2,
       "version_minor": 0
      },
      "text/plain": [
       "  0%|          | 0/1016 [00:00<?, ?it/s]"
      ]
     },
     "metadata": {},
     "output_type": "display_data"
    },
    {
     "name": "stdout",
     "output_type": "stream",
     "text": [
      "Epoch 0, Average loss: 0.997, Train accuracy: 0.878, Test accuracy: 0.851\n"
     ]
    },
    {
     "data": {
      "application/vnd.jupyter.widget-view+json": {
       "model_id": "4d147b8076264fac940bd3bb06fce93e",
       "version_major": 2,
       "version_minor": 0
      },
      "text/plain": [
       "  0%|          | 0/1016 [00:00<?, ?it/s]"
      ]
     },
     "metadata": {},
     "output_type": "display_data"
    },
    {
     "name": "stdout",
     "output_type": "stream",
     "text": [
      "Epoch 1, Average loss: 0.796, Train accuracy: 0.941, Test accuracy: 0.897\n"
     ]
    },
    {
     "data": {
      "application/vnd.jupyter.widget-view+json": {
       "model_id": "09eea2e83a5e4fb886cdf1be4f011bff",
       "version_major": 2,
       "version_minor": 0
      },
      "text/plain": [
       "  0%|          | 0/1016 [00:00<?, ?it/s]"
      ]
     },
     "metadata": {},
     "output_type": "display_data"
    },
    {
     "name": "stdout",
     "output_type": "stream",
     "text": [
      "Epoch 2, Average loss: 0.828, Train accuracy: 0.930, Test accuracy: 0.878\n"
     ]
    }
   ],
   "source": [
    "# 3-layer cnn [conv1_size = 64, conv2_size = 128, conv3_size=256, kernel_size=3]\n",
    "# relu activation between layers\n",
    "# batch norm\n",
    "# batch size 64\n",
    "\n",
    "model_cnn3 = nn.Sequential(\n",
    "    nn.Conv2d(1, 64, kernel_size=3, padding=1),\n",
    "    nn.ReLU(),\n",
    "    nn.AdaptiveAvgPool2d(14),\n",
    "    nn.BatchNorm2d(64),\n",
    "    nn.Conv2d(64, 128, kernel_size=3, padding=1),\n",
    "    nn.ReLU(),\n",
    "    nn.AdaptiveAvgPool2d(7),\n",
    "    nn.BatchNorm2d(128),\n",
    "    nn.Conv2d(128, 256, kernel_size=3, padding=1),\n",
    "    nn.ReLU(),\n",
    "    nn.BatchNorm2d(256),\n",
    "    nn.Flatten(),\n",
    "\n",
    "    nn.Linear(256 * 7 * 7, 1024),\n",
    "    nn.ReLU(),\n",
    "    nn.LazyLinear(512),\n",
    "    nn.ReLU(),\n",
    "    nn.LazyLinear(26),\n",
    ")\n",
    "\n",
    "# training\n",
    "loss = nn.CrossEntropyLoss(label_smoothing=0.1)\n",
    "cnn3_loss, cnn3_train, cnn3_val, model = train_emnist(\n",
    "    model_cnn3, \n",
    "    loss, \n",
    "    model_name=\"cnn3_relu_conv1_64_conv2_128_conv3_256_batchnorm_64\",\n",
    "    lr=3e-4, \n",
    "    batch_size=64,\n",
    "    num_epochs=3\n",
    ")\n",
    "\n",
    "# BEST TEST ACCURACY -- `0.897` (3 epochs)"
   ]
  },
  {
   "cell_type": "code",
   "execution_count": 166,
   "metadata": {},
   "outputs": [
    {
     "data": {
      "application/vnd.jupyter.widget-view+json": {
       "model_id": "5bc2bf929a6d4c739863fd260cd6ee08",
       "version_major": 2,
       "version_minor": 0
      },
      "text/plain": [
       "  0%|          | 0/3 [00:00<?, ?it/s]"
      ]
     },
     "metadata": {},
     "output_type": "display_data"
    },
    {
     "data": {
      "application/vnd.jupyter.widget-view+json": {
       "model_id": "a86970c87fa44da4ae5f5f38b3c8b815",
       "version_major": 2,
       "version_minor": 0
      },
      "text/plain": [
       "  0%|          | 0/127 [00:00<?, ?it/s]"
      ]
     },
     "metadata": {},
     "output_type": "display_data"
    },
    {
     "name": "stdout",
     "output_type": "stream",
     "text": [
      "Epoch 0, Average loss: 1.006, Train accuracy: 0.875, Test accuracy: 0.072\n"
     ]
    },
    {
     "data": {
      "application/vnd.jupyter.widget-view+json": {
       "model_id": "5b50a82bde694579b479b43ed13da95b",
       "version_major": 2,
       "version_minor": 0
      },
      "text/plain": [
       "  0%|          | 0/127 [00:00<?, ?it/s]"
      ]
     },
     "metadata": {},
     "output_type": "display_data"
    },
    {
     "name": "stdout",
     "output_type": "stream",
     "text": [
      "Epoch 1, Average loss: 0.805, Train accuracy: 0.940, Test accuracy: 0.077\n"
     ]
    },
    {
     "data": {
      "application/vnd.jupyter.widget-view+json": {
       "model_id": "855f7b30286342d29ac3f9fa9be920bf",
       "version_major": 2,
       "version_minor": 0
      },
      "text/plain": [
       "  0%|          | 0/127 [00:00<?, ?it/s]"
      ]
     },
     "metadata": {},
     "output_type": "display_data"
    },
    {
     "name": "stdout",
     "output_type": "stream",
     "text": [
      "Epoch 2, Average loss: 0.804, Train accuracy: 0.940, Test accuracy: 0.087\n"
     ]
    }
   ],
   "source": [
    "# 3-layer cnn [conv1_size = 64, conv2_size = 128, conv3_size=256, kernel_size=3]\n",
    "# relu activation between layers\n",
    "# batch norm\n",
    "# batch size 512\n",
    "\n",
    "model_cnn3 = nn.Sequential(\n",
    "    nn.Conv2d(1, 64, kernel_size=3, padding=1),\n",
    "    nn.ReLU(),\n",
    "    nn.AdaptiveAvgPool2d(14),\n",
    "    nn.BatchNorm2d(64),\n",
    "    nn.Conv2d(64, 128, kernel_size=3, padding=1),\n",
    "    nn.ReLU(),\n",
    "    nn.AdaptiveAvgPool2d(7),\n",
    "    nn.BatchNorm2d(128),\n",
    "    nn.Conv2d(128, 256, kernel_size=3, padding=1),\n",
    "    nn.ReLU(),\n",
    "    nn.BatchNorm2d(256),\n",
    "    nn.Flatten(),\n",
    "\n",
    "    nn.Linear(256 * 7 * 7, 1024),\n",
    "    nn.ReLU(),\n",
    "    nn.BatchNorm1d(1024),\n",
    "    nn.LazyLinear(512),\n",
    "    nn.ReLU(),\n",
    "    nn.BatchNorm1d(512),\n",
    "    nn.LazyLinear(26),\n",
    ")\n",
    "\n",
    "# training\n",
    "loss = nn.CrossEntropyLoss(label_smoothing=0.1)\n",
    "cnn3_loss, cnn3_train, cnn3_val, model = train_emnist(\n",
    "    model_cnn3, \n",
    "    loss, \n",
    "    model_name=\"cnn3_relu_conv1_64_conv2_128_conv3_256_batchnorm_512\",\n",
    "    lr=3e-4, \n",
    "    batch_size=512,\n",
    "    num_epochs=3\n",
    ")\n",
    "\n",
    "# BEST TEST ACCURACY -- `0.087` (5 epochs)"
   ]
  },
  {
   "attachments": {
    "04268e35-0ba1-444f-ad0e-3c3882753644.png": {
     "image/png": "[encoded data removed]"
    },
    "0bbd8fa6-2d54-4471-b70b-7fab5dcdf325.png": {
     "image/png": "[encoded data removed]"
    }
   },
   "cell_type": "markdown",
   "metadata": {},
   "source": [
    "**Conclusion**: Accuracy gets ridiculously small when big batch sizes are set (and models evidently overfit)\n",
    "\n",
    "*I found some explanation/reference to the original GroupNorm paper, explaining this (and telling, why GroupNorm is better)*\n",
    "*Source*: `https://amaarora.github.io/2020/08/09/groupnorm.html`\n",
    "\n",
    "![image.png](attachment:04268e35-0ba1-444f-ad0e-3c3882753644.png)![image.png](attachment:0bbd8fa6-2d54-4471-b70b-7fab5dcdf325.png)"
   ]
  },
  {
   "cell_type": "markdown",
   "metadata": {},
   "source": [
    "### Batch size correlation with GroupNorm"
   ]
  },
  {
   "cell_type": "code",
   "execution_count": 167,
   "metadata": {},
   "outputs": [
    {
     "data": {
      "application/vnd.jupyter.widget-view+json": {
       "model_id": "6b0edd0a25304fb6b38117e2d5107c3d",
       "version_major": 2,
       "version_minor": 0
      },
      "text/plain": [
       "  0%|          | 0/3 [00:00<?, ?it/s]"
      ]
     },
     "metadata": {},
     "output_type": "display_data"
    },
    {
     "data": {
      "application/vnd.jupyter.widget-view+json": {
       "model_id": "eefd1ff5d3dd4fef89b187a1dea95acb",
       "version_major": 2,
       "version_minor": 0
      },
      "text/plain": [
       "  0%|          | 0/1016 [00:00<?, ?it/s]"
      ]
     },
     "metadata": {},
     "output_type": "display_data"
    },
    {
     "name": "stdout",
     "output_type": "stream",
     "text": [
      "Epoch 0, Average loss: 0.998, Train accuracy: 0.874, Test accuracy: 0.932\n"
     ]
    },
    {
     "data": {
      "application/vnd.jupyter.widget-view+json": {
       "model_id": "975b02325f3b49fea2b8d84a0224f693",
       "version_major": 2,
       "version_minor": 0
      },
      "text/plain": [
       "  0%|          | 0/1016 [00:00<?, ?it/s]"
      ]
     },
     "metadata": {},
     "output_type": "display_data"
    },
    {
     "name": "stdout",
     "output_type": "stream",
     "text": [
      "Epoch 1, Average loss: 0.792, Train accuracy: 0.941, Test accuracy: 0.940\n"
     ]
    },
    {
     "data": {
      "application/vnd.jupyter.widget-view+json": {
       "model_id": "cdd912fd84ee4c249bf97c5916709e55",
       "version_major": 2,
       "version_minor": 0
      },
      "text/plain": [
       "  0%|          | 0/1016 [00:00<?, ?it/s]"
      ]
     },
     "metadata": {},
     "output_type": "display_data"
    },
    {
     "name": "stdout",
     "output_type": "stream",
     "text": [
      "Epoch 2, Average loss: 0.821, Train accuracy: 0.934, Test accuracy: 0.939\n"
     ]
    }
   ],
   "source": [
    "# 3-layer cnn [conv1_size = 64, conv2_size = 128, conv3_size=256, kernel_size=3]\n",
    "# relu activation between layers\n",
    "# group norm\n",
    "# batch size 64\n",
    "\n",
    "# this magic \"32\" is taken from the source above, it is the preferred number of groups, according to the GroupNorm paper authors\n",
    "GROUP_NUM = 32\n",
    "\n",
    "model_cnn3 = nn.Sequential(\n",
    "    nn.Conv2d(1, 64, kernel_size=3, padding=1),\n",
    "    nn.ReLU(),\n",
    "    nn.AdaptiveAvgPool2d(14),\n",
    "    nn.GroupNorm(GROUP_NUM, 64),\n",
    "    nn.Conv2d(64, 128, kernel_size=3, padding=1),\n",
    "    nn.ReLU(),\n",
    "    nn.AdaptiveAvgPool2d(7),\n",
    "    nn.GroupNorm(GROUP_NUM, 128),\n",
    "    nn.Conv2d(128, 256, kernel_size=3, padding=1),\n",
    "    nn.ReLU(),\n",
    "    nn.GroupNorm(GROUP_NUM, 256),\n",
    "    nn.Flatten(),\n",
    "\n",
    "    nn.Linear(256 * 7 * 7, 1024),\n",
    "    nn.ReLU(),\n",
    "    nn.LazyLinear(512),\n",
    "    nn.ReLU(),\n",
    "    nn.LazyLinear(26),\n",
    ")\n",
    "\n",
    "# training\n",
    "loss = nn.CrossEntropyLoss(label_smoothing=0.1)\n",
    "cnn3_loss, cnn3_train, cnn3_val, model = train_emnist(\n",
    "    model_cnn3, \n",
    "    loss, \n",
    "    model_name=\"cnn3_relu_conv1_64_conv2_128_conv3_256_groupnorm_64\",\n",
    "    lr=3e-4, \n",
    "    batch_size=64,\n",
    "    num_epochs=3\n",
    ")\n",
    "\n",
    "# BEST TEST ACCURACY -- `0.939` (3 epochs)"
   ]
  },
  {
   "cell_type": "code",
   "execution_count": 169,
   "metadata": {},
   "outputs": [
    {
     "data": {
      "application/vnd.jupyter.widget-view+json": {
       "model_id": "2b9788a69bc149568f1f04967ad15cd5",
       "version_major": 2,
       "version_minor": 0
      },
      "text/plain": [
       "  0%|          | 0/3 [00:00<?, ?it/s]"
      ]
     },
     "metadata": {},
     "output_type": "display_data"
    },
    {
     "data": {
      "application/vnd.jupyter.widget-view+json": {
       "model_id": "225a86332dd24f39a7bdea47b9e30003",
       "version_major": 2,
       "version_minor": 0
      },
      "text/plain": [
       "  0%|          | 0/127 [00:00<?, ?it/s]"
      ]
     },
     "metadata": {},
     "output_type": "display_data"
    },
    {
     "name": "stdout",
     "output_type": "stream",
     "text": [
      "Epoch 0, Average loss: 1.138, Train accuracy: 0.834, Test accuracy: 0.930\n"
     ]
    },
    {
     "data": {
      "application/vnd.jupyter.widget-view+json": {
       "model_id": "2ad34681150c494cbcd4ad85abc24757",
       "version_major": 2,
       "version_minor": 0
      },
      "text/plain": [
       "  0%|          | 0/127 [00:00<?, ?it/s]"
      ]
     },
     "metadata": {},
     "output_type": "display_data"
    },
    {
     "name": "stdout",
     "output_type": "stream",
     "text": [
      "Epoch 1, Average loss: 0.815, Train accuracy: 0.937, Test accuracy: 0.942\n"
     ]
    },
    {
     "data": {
      "application/vnd.jupyter.widget-view+json": {
       "model_id": "f03aa485c99f4600b8adb708b6cd54bd",
       "version_major": 2,
       "version_minor": 0
      },
      "text/plain": [
       "  0%|          | 0/127 [00:00<?, ?it/s]"
      ]
     },
     "metadata": {},
     "output_type": "display_data"
    },
    {
     "name": "stdout",
     "output_type": "stream",
     "text": [
      "Epoch 2, Average loss: 0.808, Train accuracy: 0.939, Test accuracy: 0.939\n"
     ]
    }
   ],
   "source": [
    "# 3-layer cnn [conv1_size = 64, conv2_size = 128, conv3_size=256, kernel_size=3]\n",
    "# relu activation between layers\n",
    "# group norm\n",
    "# batch size 512\n",
    "\n",
    "GROUP_NUM = 32\n",
    "\n",
    "model_cnn3 = nn.Sequential(\n",
    "    nn.Conv2d(1, 64, kernel_size=3, padding=1),\n",
    "    nn.ReLU(),\n",
    "    nn.AdaptiveAvgPool2d(14),\n",
    "    nn.GroupNorm(GROUP_NUM, 64),\n",
    "    nn.Conv2d(64, 128, kernel_size=3, padding=1),\n",
    "    nn.ReLU(),\n",
    "    nn.AdaptiveAvgPool2d(7),\n",
    "    nn.GroupNorm(GROUP_NUM, 128),\n",
    "    nn.Conv2d(128, 256, kernel_size=3, padding=1),\n",
    "    nn.ReLU(),\n",
    "    nn.GroupNorm(GROUP_NUM, 256),\n",
    "    nn.Flatten(),\n",
    "\n",
    "    nn.Linear(256 * 7 * 7, 1024),\n",
    "    nn.ReLU(),\n",
    "    nn.LazyLinear(512),\n",
    "    nn.ReLU(),\n",
    "    nn.LazyLinear(26),\n",
    ")\n",
    "\n",
    "# training\n",
    "loss = nn.CrossEntropyLoss(label_smoothing=0.1)\n",
    "cnn3_loss, cnn3_train, cnn3_val, model = train_emnist(\n",
    "    model_cnn3, \n",
    "    loss, \n",
    "    model_name=\"cnn3_relu_conv1_64_conv2_128_conv3_256_groupnorm_512\",\n",
    "    lr=3e-4, \n",
    "    batch_size=512,\n",
    "    num_epochs=3\n",
    ")\n",
    "\n",
    "# BEST TEST ACCURACY -- `0.942` (3 epochs)"
   ]
  },
  {
   "cell_type": "markdown",
   "metadata": {},
   "source": [
    "**Conclusion**: Comparing with BatchNorm, GroupNorm looks much more stable and powerful! \n",
    "- It's quality doesn't really depend on the batch size\n",
    "- Moreover, it provides truly noticeable performance boost at the very beginning of the training, what I find fantastic ;D"
   ]
  },
  {
   "cell_type": "markdown",
   "metadata": {},
   "source": [
    "### [3x Conv2D] Training 3-layer CNN for more epochs using GroupNorm"
   ]
  },
  {
   "cell_type": "code",
   "execution_count": 273,
   "metadata": {},
   "outputs": [
    {
     "data": {
      "application/vnd.jupyter.widget-view+json": {
       "model_id": "1465c0a931034b1b91b20de24fa9a6db",
       "version_major": 2,
       "version_minor": 0
      },
      "text/plain": [
       "  0%|          | 0/10 [00:00<?, ?it/s]"
      ]
     },
     "metadata": {},
     "output_type": "display_data"
    },
    {
     "data": {
      "application/vnd.jupyter.widget-view+json": {
       "model_id": "8519c874357749668fc4926c12814d89",
       "version_major": 2,
       "version_minor": 0
      },
      "text/plain": [
       "  0%|          | 0/254 [00:00<?, ?it/s]"
      ]
     },
     "metadata": {},
     "output_type": "display_data"
    },
    {
     "name": "stdout",
     "output_type": "stream",
     "text": [
      "Epoch 0, Average loss: 1.097, Train accuracy: 0.850, Test accuracy: 0.934\n"
     ]
    },
    {
     "data": {
      "application/vnd.jupyter.widget-view+json": {
       "model_id": "819493cb8bb74cb8b8fe2e9b4a4702fc",
       "version_major": 2,
       "version_minor": 0
      },
      "text/plain": [
       "  0%|          | 0/254 [00:00<?, ?it/s]"
      ]
     },
     "metadata": {},
     "output_type": "display_data"
    },
    {
     "name": "stdout",
     "output_type": "stream",
     "text": [
      "Epoch 1, Average loss: 0.813, Train accuracy: 0.939, Test accuracy: 0.942\n"
     ]
    },
    {
     "data": {
      "application/vnd.jupyter.widget-view+json": {
       "model_id": "b587abe3fd414baeb52d9356586be43b",
       "version_major": 2,
       "version_minor": 0
      },
      "text/plain": [
       "  0%|          | 0/254 [00:00<?, ?it/s]"
      ]
     },
     "metadata": {},
     "output_type": "display_data"
    },
    {
     "name": "stdout",
     "output_type": "stream",
     "text": [
      "Epoch 2, Average loss: 0.808, Train accuracy: 0.939, Test accuracy: 0.940\n"
     ]
    },
    {
     "data": {
      "application/vnd.jupyter.widget-view+json": {
       "model_id": "081a5e45dccd4a94bd902e3cd716a588",
       "version_major": 2,
       "version_minor": 0
      },
      "text/plain": [
       "  0%|          | 0/254 [00:00<?, ?it/s]"
      ]
     },
     "metadata": {},
     "output_type": "display_data"
    },
    {
     "name": "stdout",
     "output_type": "stream",
     "text": [
      "Epoch 3, Average loss: 0.756, Train accuracy: 0.955, Test accuracy: 0.947\n"
     ]
    },
    {
     "data": {
      "application/vnd.jupyter.widget-view+json": {
       "model_id": "9461466f5fbb417c9fc05a6c173cae24",
       "version_major": 2,
       "version_minor": 0
      },
      "text/plain": [
       "  0%|          | 0/254 [00:00<?, ?it/s]"
      ]
     },
     "metadata": {},
     "output_type": "display_data"
    },
    {
     "name": "stdout",
     "output_type": "stream",
     "text": [
      "Epoch 4, Average loss: 0.763, Train accuracy: 0.953, Test accuracy: 0.943\n"
     ]
    },
    {
     "data": {
      "application/vnd.jupyter.widget-view+json": {
       "model_id": "ede2cd00786d4dd495351d13d7a34988",
       "version_major": 2,
       "version_minor": 0
      },
      "text/plain": [
       "  0%|          | 0/254 [00:00<?, ?it/s]"
      ]
     },
     "metadata": {},
     "output_type": "display_data"
    },
    {
     "name": "stdout",
     "output_type": "stream",
     "text": [
      "Epoch 5, Average loss: 0.727, Train accuracy: 0.965, Test accuracy: 0.949\n"
     ]
    },
    {
     "data": {
      "application/vnd.jupyter.widget-view+json": {
       "model_id": "05235e7bc0864163ae92f3125ae8c9d8",
       "version_major": 2,
       "version_minor": 0
      },
      "text/plain": [
       "  0%|          | 0/254 [00:00<?, ?it/s]"
      ]
     },
     "metadata": {},
     "output_type": "display_data"
    },
    {
     "name": "stdout",
     "output_type": "stream",
     "text": [
      "Epoch 6, Average loss: 0.736, Train accuracy: 0.962, Test accuracy: 0.945\n"
     ]
    },
    {
     "data": {
      "application/vnd.jupyter.widget-view+json": {
       "model_id": "f92ce07ae6bc481890299f44a3c62e69",
       "version_major": 2,
       "version_minor": 0
      },
      "text/plain": [
       "  0%|          | 0/254 [00:00<?, ?it/s]"
      ]
     },
     "metadata": {},
     "output_type": "display_data"
    },
    {
     "name": "stdout",
     "output_type": "stream",
     "text": [
      "Epoch 7, Average loss: 0.710, Train accuracy: 0.970, Test accuracy: 0.952\n"
     ]
    },
    {
     "data": {
      "application/vnd.jupyter.widget-view+json": {
       "model_id": "19c48a336cfd4b81a1f276f3ca03e21e",
       "version_major": 2,
       "version_minor": 0
      },
      "text/plain": [
       "  0%|          | 0/254 [00:00<?, ?it/s]"
      ]
     },
     "metadata": {},
     "output_type": "display_data"
    },
    {
     "name": "stdout",
     "output_type": "stream",
     "text": [
      "Epoch 8, Average loss: 0.719, Train accuracy: 0.967, Test accuracy: 0.950\n"
     ]
    },
    {
     "data": {
      "application/vnd.jupyter.widget-view+json": {
       "model_id": "d24c2bf5b83d4d2081c834e255c2f4ee",
       "version_major": 2,
       "version_minor": 0
      },
      "text/plain": [
       "  0%|          | 0/254 [00:00<?, ?it/s]"
      ]
     },
     "metadata": {},
     "output_type": "display_data"
    },
    {
     "name": "stdout",
     "output_type": "stream",
     "text": [
      "Epoch 9, Average loss: 0.698, Train accuracy: 0.974, Test accuracy: 0.952\n"
     ]
    }
   ],
   "source": [
    "# 3-layer cnn [conv1_size = 64, conv2_size = 128, conv3_size=256, kernel_size=3]\n",
    "# relu activation between layers\n",
    "# lr -> 1e-4 \n",
    "# group norm\n",
    "# batch size 256\n",
    "\n",
    "GROUP_NUM = 32\n",
    "\n",
    "model_cnn3 = nn.Sequential(\n",
    "    nn.Conv2d(1, 64, kernel_size=3, padding=1),\n",
    "    nn.ReLU(),\n",
    "    nn.AdaptiveAvgPool2d(14),\n",
    "    nn.GroupNorm(GROUP_NUM, 64),\n",
    "    nn.Conv2d(64, 128, kernel_size=3, padding=1),\n",
    "    nn.ReLU(),\n",
    "    nn.AdaptiveAvgPool2d(7),\n",
    "    nn.GroupNorm(GROUP_NUM, 128),\n",
    "    nn.Conv2d(128, 256, kernel_size=3, padding=1),\n",
    "    nn.ReLU(),\n",
    "    nn.GroupNorm(GROUP_NUM, 256),\n",
    "    nn.Flatten(),\n",
    "\n",
    "    nn.Linear(256 * 7 * 7, 1024),\n",
    "    nn.ReLU(),\n",
    "    nn.LazyLinear(512),\n",
    "    nn.ReLU(),\n",
    "    nn.LazyLinear(26),\n",
    ")\n",
    "\n",
    "# training\n",
    "loss = nn.CrossEntropyLoss(label_smoothing=0.1)\n",
    "cnn3_loss, cnn3_train, cnn3_val, model = train_emnist(\n",
    "    model_cnn3,\n",
    "    loss, \n",
    "    model_name=\"cnn3_relu_conv1_64_conv2_128_conv3_256_groupnorm_256_final\",\n",
    "    lr=1e-4, \n",
    "    batch_size=256,\n",
    "    num_epochs=10\n",
    ")\n",
    "\n",
    "# BEST TEST ACCURACY -- `0.952` (10 epochs)"
   ]
  },
  {
   "cell_type": "markdown",
   "metadata": {},
   "source": [
    "#### BEST TEST SCORE –– 0.952 ... and that is >=0.95 ;)"
   ]
  },
  {
   "cell_type": "markdown",
   "metadata": {},
   "source": [
    "## Pretrained model fine-tuning"
   ]
  },
  {
   "cell_type": "code",
   "execution_count": 9,
   "metadata": {},
   "outputs": [],
   "source": [
    "wandb_logger = WandbLogger()\n",
    "tensorboard_logger = TensorBoardLogger(save_dir=\"tb_runs/\")"
   ]
  },
  {
   "cell_type": "code",
   "execution_count": 99,
   "metadata": {},
   "outputs": [],
   "source": [
    "# function for loading data for pretrained torchvision models\n",
    "\n",
    "def load_data(data_dir=\"./data\"):\n",
    "    train_transform = transforms.Compose([\n",
    "        transforms.ToTensor(),\n",
    "        transforms.RandomRotation(25),  # resize augmentation (10 degress) [only on train]\n",
    "        transforms.Resize(28),\n",
    "        transforms.Normalize(mean=[0.485, 0.456, 0.406],\n",
    "                             std=[0.229, 0.224, 0.225])\n",
    "    ])\n",
    "    \n",
    "    test_transform = transforms.Compose([\n",
    "        transforms.ToTensor(),\n",
    "        transforms.Normalize(mean=[0.485, 0.456, 0.406],\n",
    "                             std=[0.229, 0.224, 0.225])\n",
    "    ])\n",
    "    \n",
    "    train_data = datasets.ImageFolder(root=f\"{data_dir}/train\", transform=train_transform)\n",
    "    test_data = datasets.ImageFolder(root=f\"{data_dir}/test\", transform=test_transform)\n",
    "\n",
    "    return train_data, test_data"
   ]
  },
  {
   "cell_type": "code",
   "execution_count": 105,
   "metadata": {},
   "outputs": [],
   "source": [
    "resnet = models.resnet(pretrained=True)\n",
    "\n",
    "for param in resnet.parameters():\n",
    "    param.requires_grad = False\n",
    "    net.fc = nn.Linear(512, 26)"
   ]
  },
  {
   "cell_type": "code",
   "execution_count": 1,
   "metadata": {},
   "outputs": [
    {
     "name": "stdout",
     "output_type": "stream",
     "text": [
      "  0%|          | 0/10 [00:00<?, ?it/s]\n",
      "  0%|          | 0/254 [00:00<?, ?it/s]\n",
      "Epoch 0, Average loss: 1.1394, Train accuracy: 0.6421, Test accuracy: 0.8972\n",
      "  0%|          | 0/254 [00:00<?, ?it/s]\n",
      "Epoch 1, Average loss: 0.4441, Train accuracy: 0.8253, Test accuracy: 0.8650\n",
      "  0%|          | 0/254 [00:00<?, ?it/s]\n",
      "Epoch 2, Average loss: 0.2746, Train accuracy: 0.9043, Test accuracy: 0.8772\n",
      "  0%|          | 0/254 [00:00<?, ?it/s]\n",
      "Epoch 3, Average loss: 0.2799, Train accuracy: 0.9134, Test accuracy: 0.8916\n",
      "  0%|          | 0/254 [00:00<?, ?it/s]\n",
      "Epoch 4, Average loss: 0.2114, Train accuracy: 0.9284, Test accuracy: 0.9175\n",
      "  0%|          | 0/254 [00:00<?, ?it/s]\n",
      "Epoch 5, Average loss: 0.2317, Train accuracy: 0.9249, Test accuracy: 0.9784\n",
      "  0%|          | 0/254 [00:00<?, ?it/s]\n",
      "Epoch 6, Average loss: 0.1847, Train accuracy: 0.9409, Test accuracy: 0.9765\n",
      "  0%|          | 0/254 [00:00<?, ?it/s]\n",
      "Epoch 7, Average loss: 0.1496, Train accuracy: 0.9496, Test accuracy: 0.9201\n",
      "  0%|          | 0/254 [00:00<?, ?it/s]\n",
      "Epoch 8, Average loss: 0.1186, Train accuracy: 0.9617, Test accuracy: 0.9313\n",
      "  0%|          | 0/254 [00:00<?, ?it/s]\n",
      "Epoch 9, Average loss: 0.1112, Train accuracy: 0.9645, Test accuracy: 0.9377\n"
     ]
    }
   ],
   "source": [
    "loss = nn.CrossEntropyLoss(label_smoothing=0.1)\n",
    "\n",
    "net_loss, net_train, net_val, model = train_emnist(\n",
    "    resnet, \n",
    "    loss,\n",
    "    optimizer_name=\"adam\",\n",
    "    model_name=\"resnet-emnist\",\n",
    "    lr=1e-2,\n",
    "    batch_size=256,\n",
    "    num_epochs=10\n",
    ")"
   ]
  },
  {
   "cell_type": "markdown",
   "metadata": {},
   "source": [
    "**Conclusion:**\n",
    "- Well, it shows pretty decent accuracy, though it could be improved by making learning rate a bit lower and training it for a few more epochs"
   ]
  },
  {
   "cell_type": "markdown",
   "metadata": {},
   "source": [
    "## Using Tensorboard"
   ]
  },
  {
   "cell_type": "markdown",
   "metadata": {},
   "source": [
    "- I was logging everything I needed using Tensorboard so I can just send that info to the remote server"
   ]
  },
  {
   "cell_type": "code",
   "execution_count": 172,
   "metadata": {},
   "outputs": [],
   "source": [
    "# logs are collected by SummaryWriter and stored in the `runs` folder\n",
    "# we can look at them using \n",
    "# !tensorboard --logdir=runs\n",
    "\n",
    "# Moreover, I can upload them to the remote hosting this way\n",
    "# !tensorboard dev upload --logdir runs --name \"Babii A.S. EMNIST Lab\""
   ]
  },
  {
   "cell_type": "code",
   "execution_count": null,
   "metadata": {},
   "outputs": [],
   "source": []
  }
 ],
 "metadata": {
  "kernelspec": {
   "display_name": "Python 3 (ipykernel)",
   "language": "python",
   "name": "python3"
  },
  "language_info": {
   "codemirror_mode": {
    "name": "ipython",
    "version": 3
   },
   "file_extension": ".py",
   "mimetype": "text/x-python",
   "name": "python",
   "nbconvert_exporter": "python",
   "pygments_lexer": "ipython3",
   "version": "3.8.12"
  }
 },
 "nbformat": 4,
 "nbformat_minor": 4
}
